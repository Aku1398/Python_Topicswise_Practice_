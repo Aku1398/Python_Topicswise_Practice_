{
  "nbformat": 4,
  "nbformat_minor": 0,
  "metadata": {
    "colab": {
      "provenance": []
    },
    "kernelspec": {
      "name": "python3",
      "display_name": "Python 3"
    },
    "language_info": {
      "name": "python"
    }
  },
  "cells": [
    {
      "cell_type": "markdown",
      "source": [
        "# Python Operators\n",
        "\n",
        "## Python Operators in general are used to perform operations on values and variables. These are standard symbols used for the purpose of logical and arithmetic operations."
      ],
      "metadata": {
        "id": "X5xCArID_ZsN"
      }
    },
    {
      "cell_type": "markdown",
      "source": [
        "## Arithmetic Operators\n",
        "### Arithmetic operators are used to performing mathematical operations like addition, subtraction, multiplication, and division."
      ],
      "metadata": {
        "id": "uWh35A6F_l6h"
      }
    },
    {
      "cell_type": "markdown",
      "source": [
        "#### Operator\tDescription\tSyntax\n",
        "##### +\tAddition: adds two operands\tx + y\n",
        "##### –\tSubtraction: subtracts two operands\tx – y\n",
        "##### *\tMultiplication: multiplies two operands\tx * y\n",
        "##### /\tDivision (float): divides the first operand by the second\tx / y\n",
        "##### //\tDivision (floor): divides the first operand by the second\tx // y\n",
        "##### %\tModulus: returns the remainder when the first operand is divided by the second\tx % y\n",
        "##### **\tPower: Returns first raised to power second\tx ** y"
      ],
      "metadata": {
        "id": "0gfqOtK9_l93"
      }
    },
    {
      "cell_type": "code",
      "execution_count": null,
      "metadata": {
        "colab": {
          "base_uri": "https://localhost:8080/"
        },
        "id": "TQYTOK-L_Xuc",
        "outputId": "9196f1d3-b62a-48b2-9818-d86c93e620e5"
      },
      "outputs": [
        {
          "output_type": "stream",
          "name": "stdout",
          "text": [
            "20\n",
            "4\n",
            "96\n",
            "1.5\n",
            "1\n",
            "4\n",
            "429981696\n"
          ]
        }
      ],
      "source": [
        "#Example of Arithmatic Operation \n",
        "a = 12\n",
        "b = 8\n",
        "\n",
        "#Addition of Numbers\n",
        "add = a + b\n",
        "\n",
        "#Substraction of Numbers\n",
        "sub = a- b\n",
        "\n",
        "#Multiplication of Numbers\n",
        "mul = a * b\n",
        "\n",
        "#Devision(Float) of number\n",
        "div1 = a / b\n",
        "\n",
        "#Devision(floor) of number\n",
        "div2 = a // b\n",
        "\n",
        "#Modulo of both number\n",
        "mod = a % b\n",
        "\n",
        "# Power\n",
        "power = a ** b\n",
        "\n",
        "#Print the results\n",
        "print(add)\n",
        "print(sub)\n",
        "print(mul)\n",
        "print(div1)\n",
        "print(div2)\n",
        "print(mod)\n",
        "print(power)"
      ]
    },
    {
      "cell_type": "markdown",
      "source": [
        "### 2.Comparison Operators\n",
        "##### Comparison of Relational operators compares the values. It either returns True or False according to the condition."
      ],
      "metadata": {
        "id": "O6EUQ-fWBy3G"
      }
    },
    {
      "cell_type": "markdown",
      "source": [
        "#### Operator\tDescription\tSyntax\n",
        "##### >\tGreater than: True if the left operand is greater than the right\tx > y\n",
        "##### <\tLess than: True if the left operand is less than the right\tx < y\n",
        "##### ==\tEqual to: True if both operands are equal\tx == y\n",
        "##### !=\tNot equal to – True if operands are not equal\tx != y\n",
        "##### >=\tGreater than or equal to True if the left operand is greater than or equal to the right\tx >= y\n",
        "##### <=\tLess than or equal to True if the left operand is less than or equal to the right\tx <= y\n",
        "##### is \tx is the same as y\tx is y\n",
        "##### is not\tx is not the same as y\tx is not y\n",
        "##### = is an assignment operator and \n",
        "#####== comparison operator.\n",
        "\n"
      ],
      "metadata": {
        "id": "1z3vDoevB_H5"
      }
    },
    {
      "cell_type": "code",
      "source": [
        "#Example of Relational Operators\n",
        "a=13\n",
        "b=33\n",
        "\n",
        "#a > b is False\n",
        "print(a > b)\n",
        "\n",
        "#a < b is True\n",
        "print(a < b)\n",
        "\n",
        "# a == b is false\n",
        "print(a == b)\n",
        "\n",
        "#a != b is True\n",
        "print(a != b)\n",
        "\n",
        "#a >b is false\n",
        "print(a >= b)\n",
        "\n",
        "#a <= b is true\n",
        "print(a <= b)"
      ],
      "metadata": {
        "colab": {
          "base_uri": "https://localhost:8080/"
        },
        "id": "Gk2TUEX2Cmd6",
        "outputId": "f59940ed-c493-4c15-8053-7396ee23dece"
      },
      "execution_count": null,
      "outputs": [
        {
          "output_type": "stream",
          "name": "stdout",
          "text": [
            "False\n",
            "True\n",
            "False\n",
            "True\n",
            "False\n",
            "True\n"
          ]
        }
      ]
    },
    {
      "cell_type": "code",
      "source": [],
      "metadata": {
        "id": "hZLQKIZABoIC"
      },
      "execution_count": null,
      "outputs": []
    },
    {
      "cell_type": "markdown",
      "source": [
        "### 3.Logical Operators\n",
        "#### Logical operators perform Logical AND, Logical OR, and Logical NOT operations. It is used to combine conditional statements."
      ],
      "metadata": {
        "id": "dBIrI_JaByz0"
      }
    },
    {
      "cell_type": "markdown",
      "source": [
        "##### Operator\tDescription\tSyntax\n",
        "##### and\tLogical AND: True if both the operands are true\tx and y\n",
        "###### or\tLogical OR: True if either of the operands is true \tx or y\n",
        "###### not\tLogical NOT: True if the operand is false \tnot x"
      ],
      "metadata": {
        "id": "FC3llYkfDvZq"
      }
    },
    {
      "cell_type": "code",
      "source": [
        "# Example of Logical Operator\n",
        "a = True\n",
        "b = False\n",
        "\n",
        "#Print a and b is false\n",
        "print(a and b)\n",
        "\n",
        "#print a or b is true\n",
        "print(a or b)\n",
        "\n",
        "#print not a is false\n",
        "print(not a)"
      ],
      "metadata": {
        "colab": {
          "base_uri": "https://localhost:8080/"
        },
        "id": "bW_o19wZDtfy",
        "outputId": "6de104b4-4203-4dea-d535-6dbba6cd5b0f"
      },
      "execution_count": null,
      "outputs": [
        {
          "output_type": "stream",
          "name": "stdout",
          "text": [
            "False\n",
            "True\n",
            "False\n"
          ]
        }
      ]
    },
    {
      "cell_type": "markdown",
      "source": [
        "### 4.Bitwise Operators\n",
        "#### Bitwise operators act on bits and perform the bit-by-bit operations. These are used to operate on binary numbers."
      ],
      "metadata": {
        "id": "PDbAoxFZEkbK"
      }
    },
    {
      "cell_type": "markdown",
      "source": [
        "###### Operator\tDescription\tSyntax\n",
        "###### &\tBitwise AND\tx & y\n",
        "###### |\tBitwise OR\tx | y\n",
        "###### ~\tBitwise NOT\t~x\n",
        "###### ^\tBitwise XOR\tx ^ y\n",
        "###### >>\tBitwise right shift\tx>>\n",
        "###### <<\tBitwise left shift\tx<<"
      ],
      "metadata": {
        "id": "WYZ-FMsKEkXp"
      }
    },
    {
      "cell_type": "code",
      "source": [
        "# Examples of Bitwise operator\n",
        "a = 12\n",
        "b = 4\n",
        "\n",
        "#Print bitwise AND Operation\n",
        "print(a & b)\n",
        "\n",
        "#Print bitwise OR Operation\n",
        "print(a | b)\n",
        "\n",
        "#Print bitwise NOT operation\n",
        "print(~a)\n",
        "\n",
        "#Print bitwise XOR Operation \n",
        "print(a ^ b)\n",
        "\n",
        "#Print bitwise right shift operation\n",
        "print(a >> b)\n",
        "\n",
        "#Print bitwise left shift operation\n",
        "print(a << b)"
      ],
      "metadata": {
        "colab": {
          "base_uri": "https://localhost:8080/"
        },
        "id": "Ku3HkQ6DEgh6",
        "outputId": "ea0301a3-e9be-4c9d-c849-aa3d6e24cdf8"
      },
      "execution_count": null,
      "outputs": [
        {
          "output_type": "stream",
          "name": "stdout",
          "text": [
            "4\n",
            "12\n",
            "-13\n",
            "8\n",
            "0\n",
            "192\n"
          ]
        }
      ]
    },
    {
      "cell_type": "markdown",
      "source": [
        "### 5.Assignment Operators \n",
        "#### Assignment operators are used to assign values to the variables."
      ],
      "metadata": {
        "id": "NJy9VM-5GmfE"
      }
    },
    {
      "cell_type": "markdown",
      "source": [
        "##### Operator\tDescription\tSyntax\n",
        "##### =\tAssign value of right side of expression to left side operand \tx = y + z\n",
        "##### +=\tAdd AND: Add right-side operand with left side operand and then assign to left operand\ta+=b     a=a+b\n",
        "##### -=\tSubtract AND: Subtract right operand from left operand and then assign to left operand\ta-=b     a=a-b\n",
        "##### *=\tMultiply AND: Multiply right operand with left operand and then assign to left operand\ta*=b     a=a*b\n",
        "##### /=\tDivide AND: Divide left operand with right operand and then assign to left operand\ta/=b     a=a/b\n",
        "##### %=\tModulus AND: Takes modulus using left and right operands and assign the result to left operand\ta%=b     a=a%b\n",
        "##### //=\tDivide(floor) AND: Divide left operand with right operand and then assign the value(floor) to left operand\ta//=b     a=a//b\n",
        "##### **=\tExponent AND: Calculate exponent(raise power) value using operands and assign value to left operand\ta**=b     a=a**b\n",
        "##### &=\tPerforms Bitwise AND on operands and assign value to left operand\ta&=b     a=a&b\n",
        "##### |=\tPerforms Bitwise OR on operands and assign value to left operand\ta|=b     a=a|b\n",
        "##### ^=\tPerforms Bitwise xOR on operands and assign value to left operand\ta^=b     a=a^b\n",
        "##### >>=\tPerforms Bitwise right shift on operands and assign value to left operand\ta>>=b     a=a>>b\n",
        "##### <<=\tPerforms Bitwise left shift on operands and assign value to left operand\ta <<= b     a= a << b bold text"
      ],
      "metadata": {
        "id": "0OYs3BcgGmbs"
      }
    },
    {
      "cell_type": "code",
      "source": [
        "# Example of Assignment Operator\n",
        "a = 10\n",
        "\n",
        "#Assign a value\n",
        "b=a\n",
        "print(b)\n",
        "\n",
        "#Add and assign value\n",
        "b += a\n",
        "print(b)\n",
        "\n",
        "#Subtract and assign value\n",
        "b -= a\n",
        "print(b)\n",
        "\n",
        "#multiply and assign\n",
        "b *= a\n",
        "print(b)\n",
        "\n",
        "#bitwise lishift operator\n",
        "b <<= a\n",
        "print(b)"
      ],
      "metadata": {
        "colab": {
          "base_uri": "https://localhost:8080/"
        },
        "id": "gOIy35ikGL6R",
        "outputId": "f854f906-1b9d-4a16-8368-93ac5b860ff9"
      },
      "execution_count": null,
      "outputs": [
        {
          "output_type": "stream",
          "name": "stdout",
          "text": [
            "10\n",
            "20\n",
            "10\n",
            "100\n",
            "102400\n"
          ]
        }
      ]
    },
    {
      "cell_type": "markdown",
      "source": [
        "## 6.Identity Operators\n",
        "#### is and is not are the identity operators both are used to check if two values are located on the same part of the memory. Two variables that are equal do not imply that they are identical."
      ],
      "metadata": {
        "id": "aU_JWb91JAE9"
      }
    },
    {
      "cell_type": "markdown",
      "source": [
        "#### is          True if the operands are identical \n",
        "#### is not      True if the operands are not identical "
      ],
      "metadata": {
        "id": "1J58WTilJAIX"
      }
    },
    {
      "cell_type": "code",
      "source": [
        "## Identity Operators\n",
        "a = 10\n",
        "b = 20\n",
        "c = a\n",
        "\n",
        "print(a is not b)\n",
        "print(a is c)"
      ],
      "metadata": {
        "colab": {
          "base_uri": "https://localhost:8080/"
        },
        "id": "WFeaPhX8JSjl",
        "outputId": "c22cfde8-bee0-44ec-8164-c31851c6b521"
      },
      "execution_count": null,
      "outputs": [
        {
          "output_type": "stream",
          "name": "stdout",
          "text": [
            "True\n",
            "True\n"
          ]
        }
      ]
    },
    {
      "cell_type": "markdown",
      "source": [
        "### 7.Membership Operators\n",
        "#### in and not in are the membership operators; used to test whether a value or variable is in a sequence.\n",
        "##### in            True if value is found in the sequence\n",
        "#### not in        True if value is not found in the sequence"
      ],
      "metadata": {
        "id": "Iv-u_MRCJAZi"
      }
    },
    {
      "cell_type": "code",
      "source": [
        "# Python progrm to illustrate\n",
        "# not 'in' operator\n",
        "x = 24\n",
        "y = 20\n",
        "list = [10, 20, 30, 40, 50]\n",
        "  \n",
        "if (x not in list):\n",
        "    print(\"x is NOT present in given list\")\n",
        "else:\n",
        "    print(\"x is present in given list\")\n",
        "  \n",
        "if (y in list):\n",
        "    print(\"y is present in given list\")\n",
        "else:\n",
        "    print(\"y is NOT present in given list\")"
      ],
      "metadata": {
        "colab": {
          "base_uri": "https://localhost:8080/"
        },
        "id": "8zuowBZHI1vb",
        "outputId": "b85cc260-3e04-4f3d-9580-9a5bf30b8bb5"
      },
      "execution_count": null,
      "outputs": [
        {
          "output_type": "stream",
          "name": "stdout",
          "text": [
            "x is NOT present in given list\n",
            "y is present in given list\n"
          ]
        }
      ]
    },
    {
      "cell_type": "markdown",
      "source": [
        "### Operator Precedence\n",
        "#### This is used in an expression with more than one operator with different precedence to determine which operation to perform first."
      ],
      "metadata": {
        "id": "w15miqS3MFOI"
      }
    },
    {
      "cell_type": "code",
      "source": [
        "# Examples of Operator Precedence\n",
        "  \n",
        "# Precedence of '+' & '*'\n",
        "expr = 10 + 20 * 30\n",
        "print(expr)\n",
        "  \n",
        "# Precedence of 'or' & 'and'\n",
        "name = \"Alex\"\n",
        "age = 0\n",
        "  \n",
        "if name == \"Alex\" or name == \"John\" and age >= 2:\n",
        "    print(\"Hello! Welcome.\")\n",
        "else:\n",
        "    print(\"Good Bye!!\")"
      ],
      "metadata": {
        "colab": {
          "base_uri": "https://localhost:8080/"
        },
        "id": "WNEqW490Lu8e",
        "outputId": "2dc3b59f-bc51-4cb8-e7d9-557d867a81af"
      },
      "execution_count": null,
      "outputs": [
        {
          "output_type": "stream",
          "name": "stdout",
          "text": [
            "610\n",
            "Hello! Welcome.\n"
          ]
        }
      ]
    },
    {
      "cell_type": "markdown",
      "source": [
        "### Operator Associativity\n",
        "#### if an expression contains two or more operators with the same precedence then Operator Associativity is used to determine. It can either be Left to Right or from Right to Left."
      ],
      "metadata": {
        "id": "25iGp6KdMu3V"
      }
    },
    {
      "cell_type": "code",
      "source": [
        "# Examples of Operator Associativity\n",
        "  \n",
        "# Left-right associativity\n",
        "# 100 / 10 * 10 is calculated as\n",
        "# (100 / 10) * 10 and not\n",
        "# as 100 / (10 * 10)\n",
        "print(100 / 10 * 10)\n",
        "  \n",
        "# Left-right associativity\n",
        "# 5 - 2 + 3 is calculated as\n",
        "# (5 - 2) + 3 and not\n",
        "# as 5 - (2 + 3)\n",
        "print(5 - 2 + 3)\n",
        "  \n",
        "# left-right associativity\n",
        "print(5 - (2 + 3))\n",
        "  \n",
        "# right-left associativity\n",
        "# 2 ** 3 ** 2 is calculated as\n",
        "# 2 ** (3 ** 2) and not\n",
        "# as (2 ** 3) ** 2\n",
        "print(2 ** 3 ** 2)"
      ],
      "metadata": {
        "colab": {
          "base_uri": "https://localhost:8080/"
        },
        "id": "WSpQkfYdMdA2",
        "outputId": "f9321a76-bb3c-4c9a-b1c7-bcee1ae6b763"
      },
      "execution_count": null,
      "outputs": [
        {
          "output_type": "stream",
          "name": "stdout",
          "text": [
            "100.0\n",
            "6\n",
            "0\n",
            "512\n"
          ]
        }
      ]
    },
    {
      "cell_type": "code",
      "source": [],
      "metadata": {
        "id": "eM0CGLbPNKpg"
      },
      "execution_count": null,
      "outputs": []
    },
    {
      "cell_type": "markdown",
      "source": [
        "### Ternary operators\n",
        "#### It simply allows testing a condition in a single line replacing the multiline if-else making the code compact.\n",
        "\n",
        "#### Syntax : \n",
        "\n",
        "#### [on_true] if [expression] else [on_false] "
      ],
      "metadata": {
        "id": "nq3vlNk_OX8i"
      }
    },
    {
      "cell_type": "code",
      "source": [
        "# Program to demonstrate conditional operator\n",
        "a, b = 10, 20\n",
        "  \n",
        "# Copy value of a in min if a < b else copy b\n",
        "min = a if a < b else b\n",
        "  \n",
        "print(min)"
      ],
      "metadata": {
        "colab": {
          "base_uri": "https://localhost:8080/"
        },
        "id": "iBgxfMm6OgQA",
        "outputId": "16d1e7b0-5014-4512-ccea-34bd9df814f2"
      },
      "execution_count": null,
      "outputs": [
        {
          "output_type": "stream",
          "name": "stdout",
          "text": [
            "10\n"
          ]
        }
      ]
    },
    {
      "cell_type": "code",
      "source": [
        "# Python program to demonstrate ternary operator\n",
        "a, b = 10, 20\n",
        "  \n",
        "# Use tuple for selecting an item\n",
        "# (if_test_false,if_test_true)[test]\n",
        "# if [a<b] is true it return 1, so element with 1 index will print\n",
        "# else if [a<b] is false it return 0, so element with 0 index will print\n",
        "print( (b, a) [a < b] )\n",
        "  \n",
        "# Use Dictionary for selecting an item\n",
        "# if [a < b] is true then value of True key will print\n",
        "# else if [a<b] is false then value of False key will print \n",
        "print({True: a, False: b} [a < b])\n",
        "  \n",
        "# lambda is more efficient than above two methods\n",
        "# because in lambda  we are assure that\n",
        "# only one expression will be evaluated unlike in\n",
        "# tuple and Dictionary\n",
        "print((lambda: b, lambda: a)[a < b]())"
      ],
      "metadata": {
        "colab": {
          "base_uri": "https://localhost:8080/"
        },
        "id": "43_u0n0ZOpEl",
        "outputId": "303bd899-0104-4d18-dd0a-cb079822d72d"
      },
      "execution_count": null,
      "outputs": [
        {
          "output_type": "stream",
          "name": "stdout",
          "text": [
            "10\n",
            "10\n",
            "10\n"
          ]
        }
      ]
    },
    {
      "cell_type": "code",
      "source": [
        "# Python program to demonstrate nested ternary operator\n",
        "a, b = 10, 20\n",
        "  \n",
        "print (\"Both a and b are equal\" if a == b else \"a is greater than b\"\n",
        "        if a > b else \"b is greater than a\")"
      ],
      "metadata": {
        "colab": {
          "base_uri": "https://localhost:8080/"
        },
        "id": "QHzJMWcTOzQH",
        "outputId": "3b404a18-2147-4b7d-d02f-fbf6b0452dae"
      },
      "execution_count": null,
      "outputs": [
        {
          "output_type": "stream",
          "name": "stdout",
          "text": [
            "b is greater than a\n"
          ]
        }
      ]
    },
    {
      "cell_type": "code",
      "source": [
        "# Python program to demonstrate nested ternary operator\n",
        "a, b = 10, 20\n",
        "  \n",
        "if a != b:\n",
        "    if a > b:\n",
        "        print(\"a is greater than b\")\n",
        "    else:\n",
        "        print(\"b is greater than a\")\n",
        "else:\n",
        "    print(\"Both a and b are equal\")"
      ],
      "metadata": {
        "colab": {
          "base_uri": "https://localhost:8080/"
        },
        "id": "XfHARCo7O6e9",
        "outputId": "225a4b5f-8681-4079-b8ee-e2fd8d54389b"
      },
      "execution_count": null,
      "outputs": [
        {
          "output_type": "stream",
          "name": "stdout",
          "text": [
            "b is greater than a\n"
          ]
        }
      ]
    },
    {
      "cell_type": "code",
      "source": [
        "# Example: Find the Larger number among 2 using ternary operator in python3\n",
        "a=5\n",
        "b=7\n",
        "  \n",
        "# [statement_on_True] if [condition] else [statement_on_false] \n",
        "  \n",
        "print(a,\"is greater\") if (a>b) else print(b,\"is Greater\")"
      ],
      "metadata": {
        "colab": {
          "base_uri": "https://localhost:8080/"
        },
        "id": "m-Iki-7AO_Vk",
        "outputId": "a6836066-6784-4963-e047-032dbb3e9b47"
      },
      "execution_count": null,
      "outputs": [
        {
          "output_type": "stream",
          "name": "stdout",
          "text": [
            "7 is Greater\n"
          ]
        }
      ]
    },
    {
      "cell_type": "code",
      "source": [],
      "metadata": {
        "id": "doV8p12sPNdi"
      },
      "execution_count": null,
      "outputs": []
    }
  ]
}