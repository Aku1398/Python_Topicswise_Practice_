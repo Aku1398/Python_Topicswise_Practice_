{
  "nbformat": 4,
  "nbformat_minor": 0,
  "metadata": {
    "colab": {
      "provenance": []
    },
    "kernelspec": {
      "name": "python3",
      "display_name": "Python 3"
    },
    "language_info": {
      "name": "python"
    }
  },
  "cells": [
    {
      "cell_type": "markdown",
      "source": [
        "## Python Streings\n",
        "#### Strings in the python are surrounded by either single qutation marks, or double quotation marks.\n",
        "\n",
        "#### 'hi' & \"hi\""
      ],
      "metadata": {
        "id": "Tf3_vLk7iNxB"
      }
    },
    {
      "cell_type": "code",
      "execution_count": 2,
      "metadata": {
        "id": "HmF9HyYyHlT9",
        "colab": {
          "base_uri": "https://localhost:8080/"
        },
        "outputId": "dbbd4c90-ccbd-42db-a3d5-acea1813e150"
      },
      "outputs": [
        {
          "output_type": "stream",
          "name": "stdout",
          "text": [
            "Hello\n",
            "Hello\n"
          ]
        }
      ],
      "source": [
        "## Examples are \n",
        "print(\"Hello\")\n",
        "print('Hello')"
      ]
    },
    {
      "cell_type": "markdown",
      "source": [
        "## Assigning String bto a Variable"
      ],
      "metadata": {
        "id": "p03Z0aU8iuQz"
      }
    },
    {
      "cell_type": "code",
      "source": [
        "a = \"Hello\"\n",
        "print(a)"
      ],
      "metadata": {
        "colab": {
          "base_uri": "https://localhost:8080/"
        },
        "id": "2NhrJcThisPw",
        "outputId": "210e3034-0dac-46fa-f0a7-30b608230d28"
      },
      "execution_count": 3,
      "outputs": [
        {
          "output_type": "stream",
          "name": "stdout",
          "text": [
            "Hello\n"
          ]
        }
      ]
    },
    {
      "cell_type": "markdown",
      "source": [
        "## Multiple Strings\n",
        "#### You can assign the multiple string to a veriable by using three double or single qoutes\n"
      ],
      "metadata": {
        "id": "KOhb1o7MjH8R"
      }
    },
    {
      "cell_type": "code",
      "source": [
        "a = ''' abskdajhshbdkhwdvjhbdwkdxbwd\n",
        "cdbsjdvcjshvjcvsdhcvdjhwe\n",
        "sdsjhvdjvsjvsdcvwduwetwedbwbwdjhvwdc\n",
        "cbsdcvwcvjcvwdjhwvcjhwvw.'''\n",
        "print(a)"
      ],
      "metadata": {
        "colab": {
          "base_uri": "https://localhost:8080/"
        },
        "id": "aUtbhoEUjD28",
        "outputId": "738a6a2c-ad2a-456f-f24b-35e341eb42f8"
      },
      "execution_count": 4,
      "outputs": [
        {
          "output_type": "stream",
          "name": "stdout",
          "text": [
            " abskdajhshbdkhwdvjhbdwkdxbwd\n",
            "cdbsjdvcjshvjcvsdhcvdjhwe\n",
            "sdsjhvdjvsjvsdcvwduwetwedbwbwdjhvwdc\n",
            "cbsdcvwcvjcvwdjhwvcjhwvw.\n"
          ]
        }
      ]
    },
    {
      "cell_type": "markdown",
      "source": [
        "## Strings are Arrays\n",
        "#### Square brackets can be used to access elemenmts of the string"
      ],
      "metadata": {
        "id": "jMHBK1I6jpt8"
      }
    },
    {
      "cell_type": "code",
      "source": [
        "a = \"Hello,World!\"\n",
        "print(a[1])"
      ],
      "metadata": {
        "colab": {
          "base_uri": "https://localhost:8080/"
        },
        "id": "s0wuxLEfjfrq",
        "outputId": "3ac48404-db5f-471c-81ba-6a2454e7524a"
      },
      "execution_count": 5,
      "outputs": [
        {
          "output_type": "stream",
          "name": "stdout",
          "text": [
            "e\n"
          ]
        }
      ]
    },
    {
      "cell_type": "markdown",
      "source": [
        "## Looping through the Strings"
      ],
      "metadata": {
        "id": "eP4zlQ0KkC6o"
      }
    },
    {
      "cell_type": "code",
      "source": [
        "for x in \"banana\":\n",
        "  print(x)"
      ],
      "metadata": {
        "colab": {
          "base_uri": "https://localhost:8080/"
        },
        "id": "e7fPorszj9xj",
        "outputId": "26cc7fa2-6da5-45e2-ef0c-f40f00ce49fe"
      },
      "execution_count": 6,
      "outputs": [
        {
          "output_type": "stream",
          "name": "stdout",
          "text": [
            "b\n",
            "a\n",
            "n\n",
            "a\n",
            "n\n",
            "a\n"
          ]
        }
      ]
    },
    {
      "cell_type": "code",
      "source": [
        "for x in \"Akash\":\n",
        "  print(list(x))"
      ],
      "metadata": {
        "colab": {
          "base_uri": "https://localhost:8080/"
        },
        "id": "-CdIdsDjkM4_",
        "outputId": "cbe06411-02e7-4873-8180-a1b623cccf69"
      },
      "execution_count": 11,
      "outputs": [
        {
          "output_type": "stream",
          "name": "stdout",
          "text": [
            "['A']\n",
            "['k']\n",
            "['a']\n",
            "['s']\n",
            "['h']\n"
          ]
        }
      ]
    },
    {
      "cell_type": "code",
      "source": [
        "for x in \"Rayate\":\n",
        "  print(tuple(x))"
      ],
      "metadata": {
        "colab": {
          "base_uri": "https://localhost:8080/"
        },
        "id": "CnCY5eYwkUa3",
        "outputId": "cbd0e1f0-19c2-4fdb-ac75-211a5151e73f"
      },
      "execution_count": 12,
      "outputs": [
        {
          "output_type": "stream",
          "name": "stdout",
          "text": [
            "('R',)\n",
            "('a',)\n",
            "('y',)\n",
            "('a',)\n",
            "('t',)\n",
            "('e',)\n"
          ]
        }
      ]
    },
    {
      "cell_type": "markdown",
      "source": [
        "## String Length\n",
        "#### The len() function returns the length of the string:"
      ],
      "metadata": {
        "id": "O1N5x2Ltk3m-"
      }
    },
    {
      "cell_type": "code",
      "source": [
        "a = \"Hello, World!\"\n",
        "print(len(a))"
      ],
      "metadata": {
        "colab": {
          "base_uri": "https://localhost:8080/"
        },
        "id": "7u7LMyLakyWi",
        "outputId": "4280c583-0866-4510-ff64-43fb458b499f"
      },
      "execution_count": 14,
      "outputs": [
        {
          "output_type": "stream",
          "name": "stdout",
          "text": [
            "13\n"
          ]
        }
      ]
    },
    {
      "cell_type": "markdown",
      "source": [
        "## Checking String\n",
        "\n",
        "To check if a certain phrase or character is present in the string, we can use the keyword **in**"
      ],
      "metadata": {
        "id": "bI1CrmhnlRFo"
      }
    },
    {
      "cell_type": "markdown",
      "source": [
        "### Check if \"free\" is present in the following text:"
      ],
      "metadata": {
        "id": "W4GFFpw2lxSc"
      }
    },
    {
      "cell_type": "code",
      "source": [
        "txt = \" The best thing in life are free!\"\n",
        "print(\"free\" in txt)"
      ],
      "metadata": {
        "colab": {
          "base_uri": "https://localhost:8080/"
        },
        "id": "4mPDkp27lKyw",
        "outputId": "2d4c4200-8547-458a-d321-246f350ec4df"
      },
      "execution_count": 15,
      "outputs": [
        {
          "output_type": "stream",
          "name": "stdout",
          "text": [
            "True\n"
          ]
        }
      ]
    },
    {
      "cell_type": "code",
      "source": [
        "str = \"The most important thing in life is the to respect our parents\"\n",
        "print (\"respect\" in str)"
      ],
      "metadata": {
        "colab": {
          "base_uri": "https://localhost:8080/"
        },
        "id": "4OdHl_DymG3o",
        "outputId": "0c1d5624-0af7-46c9-f292-17d8e1a841cf"
      },
      "execution_count": 17,
      "outputs": [
        {
          "output_type": "stream",
          "name": "stdout",
          "text": [
            "True\n"
          ]
        }
      ]
    },
    {
      "cell_type": "markdown",
      "source": [
        "### Use it in an if statement:"
      ],
      "metadata": {
        "id": "DvVLxIcbmcfS"
      }
    },
    {
      "cell_type": "code",
      "source": [
        "## Print only if \" free \" is present :\n",
        "if \"free\" in txt:\n",
        "  print(\"Yes, 'free' is present in the given string\")"
      ],
      "metadata": {
        "colab": {
          "base_uri": "https://localhost:8080/"
        },
        "id": "VFclYfTSmSqI",
        "outputId": "4fd985d3-f3d3-4b8d-a4e6-435fbed444ea"
      },
      "execution_count": 19,
      "outputs": [
        {
          "output_type": "stream",
          "name": "stdout",
          "text": [
            "Yes, 'free' is present in the given string\n"
          ]
        }
      ]
    },
    {
      "cell_type": "markdown",
      "source": [
        "## Check if Not\n",
        "#### To check if a certain pharase or the character is NOT present inthe string, we can use the keyword **not in**"
      ],
      "metadata": {
        "id": "yv2wHjGAnKqL"
      }
    },
    {
      "cell_type": "code",
      "source": [
        "# Check if the \"expensive\" is NOT present in the following text:\n",
        "txt = \"The bext thing of life are free!\"\n",
        "print(\"expensive\" not in txt)"
      ],
      "metadata": {
        "colab": {
          "base_uri": "https://localhost:8080/"
        },
        "id": "3r8WV-xRnEna",
        "outputId": "06d57196-b93b-4fb9-f449-6d12f27d1756"
      },
      "execution_count": 20,
      "outputs": [
        {
          "output_type": "stream",
          "name": "stdout",
          "text": [
            "True\n"
          ]
        }
      ]
    },
    {
      "cell_type": "markdown",
      "source": [
        "### Use it in if statement"
      ],
      "metadata": {
        "id": "Yx6kbZGnn34R"
      }
    },
    {
      "cell_type": "code",
      "source": [
        "txt = \"The bext things in the life are free!\"\n",
        "if \"expensive\" not in txt:\n",
        "  print(\"No, 'expensive' is NOT present.\")"
      ],
      "metadata": {
        "colab": {
          "base_uri": "https://localhost:8080/"
        },
        "id": "X7XnqDLKn0pe",
        "outputId": "ed18e140-b1fb-457d-cf84-86d6fefa00cf"
      },
      "execution_count": 21,
      "outputs": [
        {
          "output_type": "stream",
          "name": "stdout",
          "text": [
            "No, 'expensive' is NOT present.\n"
          ]
        }
      ]
    },
    {
      "cell_type": "code",
      "source": [],
      "metadata": {
        "id": "HyWw6vE6oVBk"
      },
      "execution_count": null,
      "outputs": []
    }
  ]
}