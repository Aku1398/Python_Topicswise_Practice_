{
  "nbformat": 4,
  "nbformat_minor": 0,
  "metadata": {
    "colab": {
      "provenance": []
    },
    "kernelspec": {
      "name": "python3",
      "display_name": "Python 3"
    },
    "language_info": {
      "name": "python"
    }
  },
  "cells": [
    {
      "cell_type": "markdown",
      "source": [
        "# Python Lists\n",
        "\n",
        "#### List are used to store multiple items  in a single variable.\n",
        "\n",
        "#### **Lists are created using square brackests[]**"
      ],
      "metadata": {
        "id": "0RTzrhNvygXR"
      }
    },
    {
      "cell_type": "code",
      "execution_count": 1,
      "metadata": {
        "colab": {
          "base_uri": "https://localhost:8080/"
        },
        "id": "x-S__i1CycwG",
        "outputId": "f9cd1d65-4a18-4762-ece5-8cdde194aeab"
      },
      "outputs": [
        {
          "output_type": "stream",
          "name": "stdout",
          "text": [
            "['apple', 'banana', 'cherry']\n"
          ]
        }
      ],
      "source": [
        "#Examples \n",
        "thislist = [\"apple\", \"banana\", \"cherry\"]\n",
        "print(thislist)"
      ]
    },
    {
      "cell_type": "markdown",
      "source": [
        "## List Items \n",
        "#### List items are ordered, changable and allow duplicate values.\n",
        "#### List items are indexed, the first items has index [0], the second item has index [1] etc.\n",
        "### Ordered\n",
        "#### When we say that lists are ordered, it means that the items have a defined order, and that order will not change.\n",
        "#### If you add new items to a list, the new items will be placed at the end of the list.\n",
        "### Changeable\n",
        "#### The list is changeable, meaning that we can change, add and remove items in a list after it has been created.\n",
        "### Allow Duplicates\n",
        "#### Since lists are indexed, list can have items with the same value:"
      ],
      "metadata": {
        "id": "XL4L6ehUzcRq"
      }
    },
    {
      "cell_type": "code",
      "source": [
        "## List allow duplicate values:\n",
        "thislist = [\"apple\", \"banana\", \"cherry\", \"apple\", \"cherry\"]\n",
        "print(thislist)"
      ],
      "metadata": {
        "colab": {
          "base_uri": "https://localhost:8080/"
        },
        "id": "wnjF-n1NzIli",
        "outputId": "41fe6642-05fe-42f4-b82b-11ccf9306c6c"
      },
      "execution_count": 2,
      "outputs": [
        {
          "output_type": "stream",
          "name": "stdout",
          "text": [
            "['apple', 'banana', 'cherry', 'apple', 'cherry']\n"
          ]
        }
      ]
    },
    {
      "cell_type": "markdown",
      "source": [
        "### List Length\n",
        "#### To detrmine how many items a list has, use the len() function:\n"
      ],
      "metadata": {
        "id": "dbqQpGCk1qZs"
      }
    },
    {
      "cell_type": "code",
      "source": [
        "thislist = [\"apple\", \"banana\", \"cherry\"]\n",
        "print(len(thislist))"
      ],
      "metadata": {
        "colab": {
          "base_uri": "https://localhost:8080/"
        },
        "id": "R1m4ZX-01jtq",
        "outputId": "99281982-c627-4b34-9fc1-859ec6dbed88"
      },
      "execution_count": 4,
      "outputs": [
        {
          "output_type": "stream",
          "name": "stdout",
          "text": [
            "3\n"
          ]
        }
      ]
    },
    {
      "cell_type": "markdown",
      "source": [
        "### List Items - Data Types\n",
        "#### List items can be of any data type:"
      ],
      "metadata": {
        "id": "G60O-vSs2HKR"
      }
    },
    {
      "cell_type": "code",
      "source": [
        "#String, int and boolean data types:\n",
        "list1 = [\"apple\", \"banana\", \"cherry\"]\n",
        "list2 = [1,2,3,4,5,9,3]\n",
        "list3 = [True,False, True]\n",
        "\n",
        "print(list1)\n",
        "print(list2)\n",
        "print(list3)"
      ],
      "metadata": {
        "colab": {
          "base_uri": "https://localhost:8080/"
        },
        "id": "5A5X8o8i19Qa",
        "outputId": "ee80a183-4685-4b23-e37d-6ea1a3d97194"
      },
      "execution_count": 6,
      "outputs": [
        {
          "output_type": "stream",
          "name": "stdout",
          "text": [
            "['apple', 'banana', 'cherry']\n",
            "[1, 2, 3, 4, 5, 9, 3]\n",
            "[True, False, True]\n"
          ]
        }
      ]
    },
    {
      "cell_type": "code",
      "source": [
        "# A list with string, integers and boolean values:\n",
        "list1 = [\"abc\", 34, True, 40, \"male\"]\n",
        "print(list1)"
      ],
      "metadata": {
        "colab": {
          "base_uri": "https://localhost:8080/"
        },
        "id": "VNcS7B6O2g-e",
        "outputId": "500af7c6-f319-4407-9d33-ca46769731e7"
      },
      "execution_count": 7,
      "outputs": [
        {
          "output_type": "stream",
          "name": "stdout",
          "text": [
            "['abc', 34, True, 40, 'male']\n"
          ]
        }
      ]
    },
    {
      "cell_type": "markdown",
      "source": [
        "### **type()** Lists are defined as objects with the data type \"list\":\n"
      ],
      "metadata": {
        "id": "rinwSomJ6EGO"
      }
    },
    {
      "cell_type": "code",
      "source": [
        "# What is the data type of a list?\n",
        "mylist = [\"apple\", \"banana\", 2, 10]\n",
        "print(type(mylist))"
      ],
      "metadata": {
        "colab": {
          "base_uri": "https://localhost:8080/"
        },
        "id": "KPcH20YT5_CW",
        "outputId": "678b525e-06ba-4439-e006-a260d1b8ef24"
      },
      "execution_count": 8,
      "outputs": [
        {
          "output_type": "stream",
          "name": "stdout",
          "text": [
            "<class 'list'>\n"
          ]
        }
      ]
    },
    {
      "cell_type": "markdown",
      "source": [
        "### The list() Constructor\n",
        "#### It is also possible to use the list() constructor when creating a new list"
      ],
      "metadata": {
        "id": "r2kCSpMb6vQj"
      }
    },
    {
      "cell_type": "code",
      "source": [
        "thislist = list((\"apple\", \"Banana\", \"cherry\")) # Note the double round - brackets\n",
        "print(thislist)"
      ],
      "metadata": {
        "colab": {
          "base_uri": "https://localhost:8080/"
        },
        "id": "_QXLPVRI6lR2",
        "outputId": "52d23b61-a53e-4cf5-b413-297161ee433c"
      },
      "execution_count": 10,
      "outputs": [
        {
          "output_type": "stream",
          "name": "stdout",
          "text": [
            "['apple', 'Banana', 'cherry']\n"
          ]
        }
      ]
    },
    {
      "cell_type": "markdown",
      "source": [
        "## Pthon - Access List Items\n",
        "#### Access Items are indexed and you can access them by referring to the index number:\n"
      ],
      "metadata": {
        "id": "TB902zTi7bOH"
      }
    },
    {
      "cell_type": "code",
      "source": [
        "#Example - Print the second item of the list\n",
        "thislist = [\"apple\", \"banana\", \"cherry\"]\n",
        "print(thislist[1])"
      ],
      "metadata": {
        "colab": {
          "base_uri": "https://localhost:8080/"
        },
        "id": "Mjt_fzAX7H03",
        "outputId": "da78acd7-85ef-4031-de4a-93fb1399a0ce"
      },
      "execution_count": 11,
      "outputs": [
        {
          "output_type": "stream",
          "name": "stdout",
          "text": [
            "banana\n"
          ]
        }
      ]
    },
    {
      "cell_type": "markdown",
      "source": [
        "### Negative Indexing \n",
        "#### Negative indexing means start from the end\n",
        "#### -1 refers to the last item, -2 refers to the second last item etc."
      ],
      "metadata": {
        "id": "OOSFNTyo8IF6"
      }
    },
    {
      "cell_type": "code",
      "source": [
        "#Example - Print the last item of the list:\n",
        "thislist = [\"apple\", \"banana\", \"cherry\"]\n",
        "print(thislist[-1])"
      ],
      "metadata": {
        "colab": {
          "base_uri": "https://localhost:8080/"
        },
        "id": "FPnw9mN28C_2",
        "outputId": "31eb1b0a-60bd-4d00-fd8b-1191176bf2cf"
      },
      "execution_count": 12,
      "outputs": [
        {
          "output_type": "stream",
          "name": "stdout",
          "text": [
            "cherry\n"
          ]
        }
      ]
    },
    {
      "cell_type": "markdown",
      "source": [
        "### Range of Indexes\n",
        "#### You can specify a range of indexes by specifing where to start and where to end the range.\n",
        "#### When specifying a range, the return value will be a new list with the specified items."
      ],
      "metadata": {
        "id": "lif4Z2xu8qTj"
      }
    },
    {
      "cell_type": "code",
      "source": [
        "# Retutrn the third, fourth, and fifth item:\n",
        "thislist = [\"apple\", \"banana\", \"cherry\", \"kiwi\", \"orange\", \"mango\", \"melon\"]\n",
        "print(thislist[2:5])"
      ],
      "metadata": {
        "colab": {
          "base_uri": "https://localhost:8080/"
        },
        "id": "OEFriqOo8mnU",
        "outputId": "9b1f7346-6c64-4200-85dd-6d8d3a875a41"
      },
      "execution_count": 14,
      "outputs": [
        {
          "output_type": "stream",
          "name": "stdout",
          "text": [
            "['cherry', 'kiwi', 'orange']\n"
          ]
        }
      ]
    },
    {
      "cell_type": "code",
      "source": [
        "# Example - By leaving out the start value, the range will start at the first item:\n",
        "thislist = [\"apple\", \"banana\", \"cherry\", \"orange\", \"kivi\", \"melon\", \"mango\"]\n",
        "print(thislist[:4])"
      ],
      "metadata": {
        "colab": {
          "base_uri": "https://localhost:8080/"
        },
        "id": "65PhDzwn9jdS",
        "outputId": "c454e81e-c8d5-4df8-830e-ea939f0b80ac"
      },
      "execution_count": 16,
      "outputs": [
        {
          "output_type": "stream",
          "name": "stdout",
          "text": [
            "['apple', 'banana', 'cherry', 'orange']\n"
          ]
        }
      ]
    },
    {
      "cell_type": "code",
      "source": [
        "#By leaving retiurns the items from \"cherry\" to the end:\n",
        "thislist = [\"apple\", \"banana\", \"cherry\", \"orange\", \"kivi\", \"melon\", \"mango\"]\n",
        "print(thislist[2:])"
      ],
      "metadata": {
        "colab": {
          "base_uri": "https://localhost:8080/"
        },
        "id": "Ze9uMIldAkx5",
        "outputId": "3742487e-49e8-46a3-ef67-6c13f806b57c"
      },
      "execution_count": 18,
      "outputs": [
        {
          "output_type": "stream",
          "name": "stdout",
          "text": [
            "['cherry', 'orange', 'kivi', 'melon', 'mango']\n"
          ]
        }
      ]
    },
    {
      "cell_type": "code",
      "source": [
        "# Range of Negative\n",
        "# Specify negative indexex if you want to start the search from the end of the list:\n",
        "thislist = [\"apple\",\"banana\",\"cherry\",\"kivi\",\"orange\",\"melon\",\"mango\"]\n",
        "print(thislist[-4:-1])"
      ],
      "metadata": {
        "colab": {
          "base_uri": "https://localhost:8080/"
        },
        "id": "g0hkrPK8BSu6",
        "outputId": "70de7d4a-c4a9-4be0-80d9-ef9cd4a72f0e"
      },
      "execution_count": 19,
      "outputs": [
        {
          "output_type": "stream",
          "name": "stdout",
          "text": [
            "['kivi', 'orange', 'melon']\n"
          ]
        }
      ]
    },
    {
      "cell_type": "code",
      "source": [
        "# To determine if a specified item is present in the list:\n",
        "\n",
        "thislist = [\"apple\", \"banna\", \"cherry\"]\n",
        "if \"apple\" in thislist:\n",
        "  print(\"Yes, 'apple' is in the fruits list\")"
      ],
      "metadata": {
        "colab": {
          "base_uri": "https://localhost:8080/"
        },
        "id": "GSXd05L2B1a-",
        "outputId": "1dffb9d8-860a-4975-8fe1-6579b1e31759"
      },
      "execution_count": 20,
      "outputs": [
        {
          "output_type": "stream",
          "name": "stdout",
          "text": [
            "Yes, 'apple' is in the fruits list\n"
          ]
        }
      ]
    },
    {
      "cell_type": "code",
      "source": [],
      "metadata": {
        "id": "bj-o8AhfCdUp"
      },
      "execution_count": null,
      "outputs": []
    }
  ]
}