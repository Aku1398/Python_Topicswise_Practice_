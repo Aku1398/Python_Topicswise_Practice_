{
  "nbformat": 4,
  "nbformat_minor": 0,
  "metadata": {
    "colab": {
      "provenance": []
    },
    "kernelspec": {
      "name": "python3",
      "display_name": "Python 3"
    },
    "language_info": {
      "name": "python"
    }
  },
  "cells": [
    {
      "cell_type": "markdown",
      "source": [
        "# Python - Modify Strings\n",
        "#### Python has a set of build-in methods that you can use on Strings."
      ],
      "metadata": {
        "id": "Ihv99FpDuNR8"
      }
    },
    {
      "cell_type": "markdown",
      "source": [
        "## Upper case \n",
        "#### The upper() method returns the string in upper case:"
      ],
      "metadata": {
        "id": "ykCRZWCuulRr"
      }
    },
    {
      "cell_type": "code",
      "execution_count": 1,
      "metadata": {
        "colab": {
          "base_uri": "https://localhost:8080/"
        },
        "id": "-I3i_u1wuJwl",
        "outputId": "ecbc7268-4d84-4e30-8159-fb97d05e5dab"
      },
      "outputs": [
        {
          "output_type": "stream",
          "name": "stdout",
          "text": [
            "HELLO, WORLD!\n"
          ]
        }
      ],
      "source": [
        "a = \"Hello, World!\"\n",
        "print(a.upper())"
      ]
    },
    {
      "cell_type": "code",
      "source": [
        "b = \"Akash is the best employee ever\"\n",
        "print(b.upper())"
      ],
      "metadata": {
        "colab": {
          "base_uri": "https://localhost:8080/"
        },
        "id": "QvysNipXvANQ",
        "outputId": "7baefc0d-f916-41be-edd8-001b4044523d"
      },
      "execution_count": 4,
      "outputs": [
        {
          "output_type": "stream",
          "name": "stdout",
          "text": [
            "AKASH IS THE BEST EMPLOYEE EVER\n"
          ]
        }
      ]
    },
    {
      "cell_type": "markdown",
      "source": [
        "## Lower Case \n",
        "#### The lower() method returns the string in lower case:"
      ],
      "metadata": {
        "id": "NCc6Yc9ywn5p"
      }
    },
    {
      "cell_type": "code",
      "source": [
        "a = \"Hello, World!\"\n",
        "print(a.lower())"
      ],
      "metadata": {
        "colab": {
          "base_uri": "https://localhost:8080/"
        },
        "id": "GYTlLCD6vVLe",
        "outputId": "b02bc9dc-4fb1-4138-ff1f-b84bc2ba2bc9"
      },
      "execution_count": 5,
      "outputs": [
        {
          "output_type": "stream",
          "name": "stdout",
          "text": [
            "hello, world!\n"
          ]
        }
      ]
    },
    {
      "cell_type": "code",
      "source": [
        "b = \"If you descide something then just do it!\"\n",
        "print(a.lower())"
      ],
      "metadata": {
        "colab": {
          "base_uri": "https://localhost:8080/"
        },
        "id": "XazVFeoew9O3",
        "outputId": "0b950e1d-ee95-4008-e102-8910f7d84243"
      },
      "execution_count": 6,
      "outputs": [
        {
          "output_type": "stream",
          "name": "stdout",
          "text": [
            "hello, world!\n"
          ]
        }
      ]
    },
    {
      "cell_type": "markdown",
      "source": [
        "## Remove Whitespaces\n",
        "#### Whitespace is the space before and / or after the actual text, and very often you want to remove this space.\n",
        "#### The strip() method removes any whitespace from the beginning of the end:"
      ],
      "metadata": {
        "id": "cwN2h6aCxhnV"
      }
    },
    {
      "cell_type": "code",
      "source": [
        "a = \"    Hello, World!       \"\n",
        "print(a.strip())"
      ],
      "metadata": {
        "colab": {
          "base_uri": "https://localhost:8080/"
        },
        "id": "SxJBpjfDxdD3",
        "outputId": "3820c447-72ad-41c8-c3d7-a39109af7f40"
      },
      "execution_count": 7,
      "outputs": [
        {
          "output_type": "stream",
          "name": "stdout",
          "text": [
            "Hello, World!\n"
          ]
        }
      ]
    },
    {
      "cell_type": "markdown",
      "source": [
        "## Replace String\n",
        "#### The replace() method replaces a string with another string:"
      ],
      "metadata": {
        "id": "jqdhBaD3yeN1"
      }
    },
    {
      "cell_type": "code",
      "source": [
        "a = \"Hello, World!\"\n",
        "print(a.replace(\"H\", \"J\"))"
      ],
      "metadata": {
        "colab": {
          "base_uri": "https://localhost:8080/"
        },
        "id": "YLtUAVojybes",
        "outputId": "5299a300-53fe-4ab0-dd86-3b27ef075077"
      },
      "execution_count": 8,
      "outputs": [
        {
          "output_type": "stream",
          "name": "stdout",
          "text": [
            "Jello, World!\n"
          ]
        }
      ]
    },
    {
      "cell_type": "markdown",
      "source": [
        "## Split String\n",
        "#### The split() method splits the string into the substrings if it finds intances of the separator:"
      ],
      "metadata": {
        "id": "ZNvLo5v7zFbi"
      }
    },
    {
      "cell_type": "code",
      "source": [
        "a = \"Hello, World!\"\n",
        "print(a.split(\",\"))"
      ],
      "metadata": {
        "colab": {
          "base_uri": "https://localhost:8080/"
        },
        "id": "xrg1GAN8y78q",
        "outputId": "25f33184-d684-4e14-973b-1bf90a878bd4"
      },
      "execution_count": 9,
      "outputs": [
        {
          "output_type": "stream",
          "name": "stdout",
          "text": [
            "['Hello', ' World!']\n"
          ]
        }
      ]
    },
    {
      "cell_type": "code",
      "source": [],
      "metadata": {
        "id": "kRUrQRKozkOr"
      },
      "execution_count": null,
      "outputs": []
    }
  ]
}