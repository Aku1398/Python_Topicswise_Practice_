{
  "nbformat": 4,
  "nbformat_minor": 0,
  "metadata": {
    "colab": {
      "provenance": []
    },
    "kernelspec": {
      "name": "python3",
      "display_name": "Python 3"
    },
    "language_info": {
      "name": "python"
    }
  },
  "cells": [
    {
      "cell_type": "markdown",
      "source": [
        "# Python Booleans\n",
        "#### Booleans represent one of the two values.\n"
      ],
      "metadata": {
        "id": "ERXBPyW5nWIb"
      }
    },
    {
      "cell_type": "markdown",
      "source": [
        "## 1.Compare two values\n"
      ],
      "metadata": {
        "id": "M_EIWP07nno0"
      }
    },
    {
      "cell_type": "code",
      "execution_count": 1,
      "metadata": {
        "colab": {
          "base_uri": "https://localhost:8080/"
        },
        "id": "d2WE2MWsnQOl",
        "outputId": "167f9fd6-3cc6-4abc-f62c-46f16f7ba2f6"
      },
      "outputs": [
        {
          "output_type": "stream",
          "name": "stdout",
          "text": [
            "True\n",
            "False\n",
            "False\n"
          ]
        }
      ],
      "source": [
        "#Example\n",
        "print(10 > 9)\n",
        "print(10 == 9)\n",
        "print(10 < 9)"
      ]
    },
    {
      "cell_type": "markdown",
      "source": [
        "## 2.Run a condition in an if statement"
      ],
      "metadata": {
        "id": "JmETrrFAoHh7"
      }
    },
    {
      "cell_type": "code",
      "source": [
        "#Example\n",
        "a = 200\n",
        "b = 33\n",
        "\n",
        "if b > a:\n",
        "  print(\"b is greater than a\")\n",
        "else:\n",
        "  print(\"a is greater than b\")"
      ],
      "metadata": {
        "colab": {
          "base_uri": "https://localhost:8080/"
        },
        "id": "QvrT-tQyn3IJ",
        "outputId": "6e597740-b3ee-401b-92ba-3c674d562018"
      },
      "execution_count": 2,
      "outputs": [
        {
          "output_type": "stream",
          "name": "stdout",
          "text": [
            "a is greater than b\n"
          ]
        }
      ]
    },
    {
      "cell_type": "markdown",
      "source": [
        "## 3.Evaluate Values and Variable \n",
        "#### By using bool()"
      ],
      "metadata": {
        "id": "OF6KEed-okWG"
      }
    },
    {
      "cell_type": "code",
      "source": [
        "# Example of the Evaluate a string and a number\n",
        "print(bool(\"Hello\"))\n",
        "print(bool(15))"
      ],
      "metadata": {
        "colab": {
          "base_uri": "https://localhost:8080/"
        },
        "id": "76MghtgeoiI1",
        "outputId": "247b1597-1cb0-4839-a040-07083e0abd99"
      },
      "execution_count": 3,
      "outputs": [
        {
          "output_type": "stream",
          "name": "stdout",
          "text": [
            "True\n",
            "True\n"
          ]
        }
      ]
    },
    {
      "cell_type": "code",
      "source": [
        "# Example of Evaluate two variables:\n",
        "x = \"Hello\"\n",
        "y = 15\n",
        "\n",
        "print(bool(x))\n",
        "print(bool(y))"
      ],
      "metadata": {
        "colab": {
          "base_uri": "https://localhost:8080/"
        },
        "id": "w1Aktnqto2DZ",
        "outputId": "f12c83b6-acfe-4fbd-e396-2fc2f7fa34c1"
      },
      "execution_count": 4,
      "outputs": [
        {
          "output_type": "stream",
          "name": "stdout",
          "text": [
            "True\n",
            "True\n"
          ]
        }
      ]
    },
    {
      "cell_type": "markdown",
      "source": [
        "## Most Values are **TRUE**\n",
        "#### 1. Any string is True,except empty string\n",
        "#### 2. Any number is True, except 0.\n",
        "#### 3. Any list, tuple, set and Dictionary are True, except empty ones."
      ],
      "metadata": {
        "id": "ANPhuv28plMw"
      }
    },
    {
      "cell_type": "code",
      "source": [
        "## Following examples will return True:\n",
        "bool(\"abc\")\n",
        "bool(123)\n",
        "bool([\"apple\",\"cherry\", \"banana\"])"
      ],
      "metadata": {
        "colab": {
          "base_uri": "https://localhost:8080/"
        },
        "id": "cyctzY82pTp5",
        "outputId": "cf2b6325-c199-450f-d48d-97810c04dd89"
      },
      "execution_count": 5,
      "outputs": [
        {
          "output_type": "execute_result",
          "data": {
            "text/plain": [
              "True"
            ]
          },
          "metadata": {},
          "execution_count": 5
        }
      ]
    },
    {
      "cell_type": "markdown",
      "source": [
        "## Some Values are False\n",
        "#### In fact, there are not many values thatr evaluate to False, except empty values, such as (), [], {}, \"\", the number 0,and the value None. And of course the values False evaluates to False."
      ],
      "metadata": {
        "id": "nPGb08sJqbG3"
      }
    },
    {
      "cell_type": "code",
      "source": [
        "#Following example will returns the False:\n",
        "bool(False)\n",
        "bool(None)\n",
        "bool(0)\n",
        "bool(\"\")\n",
        "bool(())\n",
        "bool([])\n",
        "bool({})"
      ],
      "metadata": {
        "colab": {
          "base_uri": "https://localhost:8080/"
        },
        "id": "o_9q0vE5qXZr",
        "outputId": "2a2fd9ce-7bd7-43f5-a396-a0597e647a1a"
      },
      "execution_count": 6,
      "outputs": [
        {
          "output_type": "execute_result",
          "data": {
            "text/plain": [
              "False"
            ]
          },
          "metadata": {},
          "execution_count": 6
        }
      ]
    },
    {
      "cell_type": "markdown",
      "source": [
        "#### One more value, or object in this case, evaluates to False, and that is if you have an object that is made from a class with a **__len__** function thatr returns 0 or False:\n"
      ],
      "metadata": {
        "id": "sdloqZqYrjbJ"
      }
    },
    {
      "cell_type": "code",
      "source": [
        "# Example\n",
        "class myclass():\n",
        "  def __len__(self):\n",
        "    return 0\n",
        "\n",
        "myobj = myclass()\n",
        "print(bool(myobj))"
      ],
      "metadata": {
        "colab": {
          "base_uri": "https://localhost:8080/"
        },
        "id": "1eV3_HROrZPu",
        "outputId": "75e8d63d-9793-4e6a-e5bf-7f03ebf1b7d4"
      },
      "execution_count": 7,
      "outputs": [
        {
          "output_type": "stream",
          "name": "stdout",
          "text": [
            "False\n"
          ]
        }
      ]
    },
    {
      "cell_type": "markdown",
      "source": [
        "## Functions can returns a Boolean \n",
        "#### Create a function that returns a Boolean Value:"
      ],
      "metadata": {
        "id": "rKAqPUd5sv-R"
      }
    },
    {
      "cell_type": "code",
      "source": [
        "from IPython.core.inputtransformer2 import Tuple\n",
        "def myFunction():\n",
        "  return True\n",
        "\n",
        "print(myFunction())"
      ],
      "metadata": {
        "colab": {
          "base_uri": "https://localhost:8080/"
        },
        "id": "2pyQdXMysnHR",
        "outputId": "dbaa644d-e8bc-429b-d247-e8a496c622f7"
      },
      "execution_count": 10,
      "outputs": [
        {
          "output_type": "stream",
          "name": "stdout",
          "text": [
            "True\n"
          ]
        }
      ]
    },
    {
      "cell_type": "markdown",
      "source": [
        "## Execute the code based on the Boolean answer of the function:\n"
      ],
      "metadata": {
        "id": "l_YJb_AwtPR9"
      }
    },
    {
      "cell_type": "code",
      "source": [
        "# Print \"Yes!\" if the function returns True, otherwise print \"No!\":\n",
        "\n",
        "def myFunction():\n",
        "  return True\n",
        "\n",
        "if myFunction():\n",
        "  print(\"Yes!\")\n",
        "else:\n",
        "  print(\"No!\")"
      ],
      "metadata": {
        "colab": {
          "base_uri": "https://localhost:8080/"
        },
        "id": "QFmmXu6ztGY1",
        "outputId": "bedef9af-c098-45de-c8b8-c885105c7409"
      },
      "execution_count": 12,
      "outputs": [
        {
          "output_type": "stream",
          "name": "stdout",
          "text": [
            "Yes!\n"
          ]
        }
      ]
    },
    {
      "cell_type": "markdown",
      "source": [
        "## In Build-In Function like **isinstance()** function\n",
        "#### Python also has many build-in functions that return a boolean value, like the isinstance() function, which can be used to determine if an object is of a certain data type.\n"
      ],
      "metadata": {
        "id": "la0flQi1uPof"
      }
    },
    {
      "cell_type": "code",
      "source": [
        "x = 200 \n",
        "print(isinstance(x, int))"
      ],
      "metadata": {
        "colab": {
          "base_uri": "https://localhost:8080/"
        },
        "id": "1e8CShJvuFKE",
        "outputId": "b0757f22-90b0-4347-e02e-3a873e014d80"
      },
      "execution_count": 13,
      "outputs": [
        {
          "output_type": "stream",
          "name": "stdout",
          "text": [
            "True\n"
          ]
        }
      ]
    },
    {
      "cell_type": "code",
      "source": [],
      "metadata": {
        "id": "tdbLtHmOu8Ft"
      },
      "execution_count": null,
      "outputs": []
    }
  ]
}