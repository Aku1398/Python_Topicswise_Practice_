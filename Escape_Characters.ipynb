{
  "nbformat": 4,
  "nbformat_minor": 0,
  "metadata": {
    "colab": {
      "provenance": []
    },
    "kernelspec": {
      "name": "python3",
      "display_name": "Python 3"
    },
    "language_info": {
      "name": "python"
    }
  },
  "cells": [
    {
      "cell_type": "markdown",
      "source": [
        "# Python - Escape Characters\n",
        "#### To insert characters that are illegal in string, use an escape character.\n",
        "#### An escape character is a backslash \\ followed by the character you want to insert.\n",
        "#### An example of an illegal character is a double quote inside a string that is surrounded by double quotes:"
      ],
      "metadata": {
        "id": "6TcCg7a9Fr4b"
      }
    },
    {
      "cell_type": "code",
      "execution_count": 1,
      "metadata": {
        "colab": {
          "base_uri": "https://localhost:8080/",
          "height": 131
        },
        "id": "XUc1Va0IFj2B",
        "outputId": "f6404dcf-a3e5-4354-cc52-5b9ac9dbd2e9"
      },
      "outputs": [
        {
          "output_type": "error",
          "ename": "SyntaxError",
          "evalue": "ignored",
          "traceback": [
            "\u001b[0;36m  File \u001b[0;32m\"<ipython-input-1-57eebd75e215>\"\u001b[0;36m, line \u001b[0;32m3\u001b[0m\n\u001b[0;31m    txt = \"We are the so-called \"Vinings\" from the north.\"\u001b[0m\n\u001b[0m                                 ^\u001b[0m\n\u001b[0;31mSyntaxError\u001b[0m\u001b[0;31m:\u001b[0m invalid syntax\n"
          ]
        }
      ],
      "source": [
        "#Example\n",
        "\n",
        "txt = \"We are the so-called \"Vinings\" from the north.\"\n",
        "print(txt)"
      ]
    },
    {
      "cell_type": "markdown",
      "source": [
        "#### To fix this problem, use the escape character **\\**\":"
      ],
      "metadata": {
        "id": "z29eUbSxHEtU"
      }
    },
    {
      "cell_type": "code",
      "source": [
        "txt = \"We are the so-called \\\"Vinkings\\\" from the north.\"\n",
        "print(txt)"
      ],
      "metadata": {
        "colab": {
          "base_uri": "https://localhost:8080/"
        },
        "id": "ePfOtf8pG-r8",
        "outputId": "3896de1b-9035-4969-fe7a-b651db413197"
      },
      "execution_count": 2,
      "outputs": [
        {
          "output_type": "stream",
          "name": "stdout",
          "text": [
            "We are the so-called \"Vinkings\" from the north.\n"
          ]
        }
      ]
    },
    {
      "cell_type": "markdown",
      "source": [
        "## Escape Characters"
      ],
      "metadata": {
        "id": "Rrjz8ommHrK9"
      }
    },
    {
      "cell_type": "markdown",
      "source": [
        "### 1.Single Quote **\\**"
      ],
      "metadata": {
        "id": "tq6gXjEWH3vH"
      }
    },
    {
      "cell_type": "code",
      "source": [
        "#Example of single Quotes \n",
        "txt = 'It\\'s alright.'\n",
        "print(txt)"
      ],
      "metadata": {
        "colab": {
          "base_uri": "https://localhost:8080/"
        },
        "id": "BrDmWtLmHjKm",
        "outputId": "94d412c9-7651-47f0-b387-a54511cfff62"
      },
      "execution_count": 3,
      "outputs": [
        {
          "output_type": "stream",
          "name": "stdout",
          "text": [
            "It's alright.\n"
          ]
        }
      ]
    },
    {
      "cell_type": "markdown",
      "source": [
        "### 2.Backslash **\\\\** **\\\\**"
      ],
      "metadata": {
        "id": "STZ_pBXpIYRn"
      }
    },
    {
      "cell_type": "code",
      "source": [
        "#Example of Backslash\n",
        "txt = \"This will be insert one \\\\ (backslash).\"\n",
        "print(txt)"
      ],
      "metadata": {
        "colab": {
          "base_uri": "https://localhost:8080/"
        },
        "id": "tR7A2FZtIOwf",
        "outputId": "3f40175d-0303-4c54-dd81-b88debff4d1f"
      },
      "execution_count": 4,
      "outputs": [
        {
          "output_type": "stream",
          "name": "stdout",
          "text": [
            "This will be insert one \\ (backslash).\n"
          ]
        }
      ]
    },
    {
      "cell_type": "markdown",
      "source": [
        "### 3.New Line **\\n**"
      ],
      "metadata": {
        "id": "BSsraHYII1XA"
      }
    },
    {
      "cell_type": "code",
      "source": [
        "#Example of New Line\n",
        "txt = \"Hello\\nWorld!\"\n",
        "print(txt)"
      ],
      "metadata": {
        "colab": {
          "base_uri": "https://localhost:8080/"
        },
        "id": "cBU95Bv-IxUl",
        "outputId": "877b38e8-aa83-4677-cbaf-ac4d88001f2d"
      },
      "execution_count": 5,
      "outputs": [
        {
          "output_type": "stream",
          "name": "stdout",
          "text": [
            "Hello\n",
            "World!\n"
          ]
        }
      ]
    },
    {
      "cell_type": "markdown",
      "source": [
        "### 4.Carriage Return **\\r**"
      ],
      "metadata": {
        "id": "X1SSq_vkJrBC"
      }
    },
    {
      "cell_type": "code",
      "source": [
        "#Example of the Carriage Return\n",
        "txt = \"Hello\\rWorld\"\n",
        "print(txt)"
      ],
      "metadata": {
        "colab": {
          "base_uri": "https://localhost:8080/"
        },
        "id": "20p_2trtJiGw",
        "outputId": "e8233ef8-00c3-4802-d983-52f37ca4419c"
      },
      "execution_count": 6,
      "outputs": [
        {
          "output_type": "stream",
          "name": "stdout",
          "text": [
            "Hello\rWorld\n"
          ]
        }
      ]
    },
    {
      "cell_type": "markdown",
      "source": [
        "### 5.Tab **\\t**"
      ],
      "metadata": {
        "id": "MeScYJwYKjYh"
      }
    },
    {
      "cell_type": "code",
      "source": [
        "#Example of Tab\n",
        "txt = \"Hello\\tWorld\"\n",
        "print(txt)"
      ],
      "metadata": {
        "colab": {
          "base_uri": "https://localhost:8080/"
        },
        "id": "9Zs6R8kWKc_v",
        "outputId": "241259df-fcce-4b18-d364-dd85a68a2ef4"
      },
      "execution_count": 7,
      "outputs": [
        {
          "output_type": "stream",
          "name": "stdout",
          "text": [
            "Hello\tWorld\n"
          ]
        }
      ]
    },
    {
      "cell_type": "markdown",
      "source": [
        "### 6.Backspace **\\b**\n",
        "\n"
      ],
      "metadata": {
        "id": "6tFnvctrK3IC"
      }
    },
    {
      "cell_type": "code",
      "source": [
        "#Example of Backspace.\n",
        "txt = \"Hello \\bWorld!\"\n",
        "print(txt)"
      ],
      "metadata": {
        "colab": {
          "base_uri": "https://localhost:8080/"
        },
        "id": "HmJ6eo5OKz-_",
        "outputId": "b500e533-cb4a-4b8e-b813-82c754632f92"
      },
      "execution_count": 9,
      "outputs": [
        {
          "output_type": "stream",
          "name": "stdout",
          "text": [
            "Hello \bWorld!\n"
          ]
        }
      ]
    },
    {
      "cell_type": "markdown",
      "source": [
        "### 7.Form Feed **\\b**"
      ],
      "metadata": {
        "id": "FN3zfJx7L1CR"
      }
    },
    {
      "cell_type": "code",
      "source": [
        "#Example of Form Feed\n",
        "txt = \"Hello \\fWorld!\"\n",
        "print(txt)"
      ],
      "metadata": {
        "colab": {
          "base_uri": "https://localhost:8080/"
        },
        "id": "khjohkO5LYFw",
        "outputId": "ff91f39d-5d32-42e1-feb3-1bc275802c34"
      },
      "execution_count": 10,
      "outputs": [
        {
          "output_type": "stream",
          "name": "stdout",
          "text": [
            "Hello \fWorld!\n"
          ]
        }
      ]
    },
    {
      "cell_type": "markdown",
      "source": [
        "### 8.Octal Value **\\ooo**\n"
      ],
      "metadata": {
        "id": "6gnDrL4YMNpk"
      }
    },
    {
      "cell_type": "code",
      "source": [
        "#Example of the Octal Value\n",
        "txt = \"\\110\\145\\154\\154\\157\"\n",
        "print(txt)"
      ],
      "metadata": {
        "colab": {
          "base_uri": "https://localhost:8080/"
        },
        "id": "2WcvPdbyMKWl",
        "outputId": "3f3148cb-c9ec-4b6e-c4ed-5aae1ffbc57e"
      },
      "execution_count": 11,
      "outputs": [
        {
          "output_type": "stream",
          "name": "stdout",
          "text": [
            "Hello\n"
          ]
        }
      ]
    },
    {
      "cell_type": "markdown",
      "source": [
        "### 9.Xex Value **\\xhh**"
      ],
      "metadata": {
        "id": "YBKdv4O-Mf2c"
      }
    },
    {
      "cell_type": "code",
      "source": [
        "#Example of the Hex Value\n",
        "txt = \"\\x48\\x65\\x6c\\x6c\\x6f\"\n",
        "print(txt)"
      ],
      "metadata": {
        "colab": {
          "base_uri": "https://localhost:8080/"
        },
        "id": "nChH_8DrM19K",
        "outputId": "1a08fc1d-8ddf-4545-8c06-631f1227dee1"
      },
      "execution_count": 12,
      "outputs": [
        {
          "output_type": "stream",
          "name": "stdout",
          "text": [
            "Hello\n"
          ]
        }
      ]
    },
    {
      "cell_type": "code",
      "source": [],
      "metadata": {
        "id": "K5Y_z2iWNEdt"
      },
      "execution_count": null,
      "outputs": []
    }
  ]
}