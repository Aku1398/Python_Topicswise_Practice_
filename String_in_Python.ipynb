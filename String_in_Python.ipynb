{
  "nbformat": 4,
  "nbformat_minor": 0,
  "metadata": {
    "colab": {
      "provenance": []
    },
    "kernelspec": {
      "name": "python3",
      "display_name": "Python 3"
    },
    "language_info": {
      "name": "python"
    }
  },
  "cells": [
    {
      "cell_type": "markdown",
      "source": [
        "# Python String\n",
        "### 1.A string is a data structure in Python that represents a sequence of characters.\n",
        "### 2.It is an immutable data type, meaning that once you have created a string, you cannot change it. \n",
        "### 3.Strings are used widely in many different applications, such as storing and manipulating text data, representing names, addresses, and other types of data that can be represented as text.\n",
        "#### eg.\n",
        "#### \"Hello World\" or 'Hello World'"
      ],
      "metadata": {
        "id": "tv0KnW9zScP1"
      }
    },
    {
      "cell_type": "code",
      "execution_count": null,
      "metadata": {
        "colab": {
          "base_uri": "https://localhost:8080/"
        },
        "id": "twGCmQS3SG_5",
        "outputId": "43404255-0573-4ab8-8fc2-a646fc343677"
      },
      "outputs": [
        {
          "output_type": "stream",
          "name": "stdout",
          "text": [
            "A Computer Science portal for India\n"
          ]
        }
      ],
      "source": [
        "print(\"A Computer Science portal for India\")"
      ]
    },
    {
      "cell_type": "markdown",
      "source": [
        "### Creating a String in Python\n",
        "#### Strings in Python can be created using single quotes or double quotes or even triple quotes. "
      ],
      "metadata": {
        "id": "OBofHPA_UPhO"
      }
    },
    {
      "cell_type": "code",
      "source": [
        "# Python program for creation of string\n",
        "\n",
        "## Creating string with single quotes\n",
        "String1 = 'Welcome to the Geeks World'\n",
        "print(\"\\nString with the use of Single Quotes: \")\n",
        "print(String1)"
      ],
      "metadata": {
        "colab": {
          "base_uri": "https://localhost:8080/"
        },
        "id": "62DoOWY2UGCZ",
        "outputId": "e1d80787-602d-497a-996f-6238bbcdb752"
      },
      "execution_count": null,
      "outputs": [
        {
          "output_type": "stream",
          "name": "stdout",
          "text": [
            "\n",
            "String with the use of Single Quotes: \n",
            "Welcome to the Geeks World\n"
          ]
        }
      ]
    },
    {
      "cell_type": "code",
      "source": [
        "## Creating string with double quotes\n",
        "String1 = \"Welcome to the Geeks World\"\n",
        "print(\"\\nString with the use of Double Quotes: \")\n",
        "print(String1)"
      ],
      "metadata": {
        "colab": {
          "base_uri": "https://localhost:8080/"
        },
        "id": "hm-UNgafU-PS",
        "outputId": "6f2fd210-2675-4a32-f536-56126306aae5"
      },
      "execution_count": null,
      "outputs": [
        {
          "output_type": "stream",
          "name": "stdout",
          "text": [
            "\n",
            "String with the use of Double Quotes: \n",
            "Welcome to the Geeks World\n"
          ]
        }
      ]
    },
    {
      "cell_type": "code",
      "source": [
        "## Creating string with triple quotes\n",
        "String1 = '''Welcome to the Geeks World'''\n",
        "print(\"\\nString with the use of Triple Quotes: \")\n",
        "print(String1)"
      ],
      "metadata": {
        "colab": {
          "base_uri": "https://localhost:8080/"
        },
        "id": "T3P4kp6ZVIB0",
        "outputId": "735355f9-8af1-4748-db97-334729316b60"
      },
      "execution_count": null,
      "outputs": [
        {
          "output_type": "stream",
          "name": "stdout",
          "text": [
            "\n",
            "String with the use of Triple Quotes: \n",
            "Welcome to the Geeks World\n"
          ]
        }
      ]
    },
    {
      "cell_type": "code",
      "source": [
        "## Creating string with triple quotes\n",
        "## multi-line comment\n",
        "\n",
        "String1 = '''Welcome\n",
        "             to \n",
        "             the \n",
        "             Geeks \n",
        "             World'''\n",
        "print(\"\\nCreating a multiline String: \")\n",
        "print(String1)"
      ],
      "metadata": {
        "colab": {
          "base_uri": "https://localhost:8080/"
        },
        "id": "wFobur3qVIEX",
        "outputId": "4651d8a6-8d0d-4cdc-a062-7e56b491de64"
      },
      "execution_count": null,
      "outputs": [
        {
          "output_type": "stream",
          "name": "stdout",
          "text": [
            "\n",
            "Creating a multiline String: \n",
            "Welcome\n",
            "             to \n",
            "             the \n",
            "             Geeks \n",
            "             World\n"
          ]
        }
      ]
    },
    {
      "cell_type": "markdown",
      "source": [
        "### Accessing characters in Python String\n",
        "#### 1.In Python, individual characters of a String can be accessed by using the method of Indexing.\n",
        "#### 2.While accessing an index out of the range will cause an IndexError.\n",
        "#### 3. Only Integers are allowed to be passed as an index, float or other types that will cause a TypeError."
      ],
      "metadata": {
        "id": "Rb1jswclWO57"
      }
    },
    {
      "cell_type": "code",
      "source": [
        "# Python program to Accesss characters of string\n",
        "\n",
        "String1 = \"Python tutorial in PW skills\"\n",
        "print(\"Initial String: \")\n",
        "print(String1)\n",
        "\n",
        "# Printing the first Character\n",
        "print(\"\\nFirst character of the String is : \")\n",
        "print(String1[0])\n",
        "\n",
        "# Printing the last character\n",
        "print(\"\\nLast character of the string : \")\n",
        "print(String1[-1])"
      ],
      "metadata": {
        "colab": {
          "base_uri": "https://localhost:8080/"
        },
        "id": "2o6VtQ1tVIHO",
        "outputId": "2b06f3bb-49b0-4736-a64c-f24a38847308"
      },
      "execution_count": null,
      "outputs": [
        {
          "output_type": "stream",
          "name": "stdout",
          "text": [
            "Initial String: \n",
            "Python tutorial in PW skills\n",
            "\n",
            "First character of the String is : \n",
            "P\n",
            "\n",
            "Last character of the string : \n",
            "s\n"
          ]
        }
      ]
    },
    {
      "cell_type": "markdown",
      "source": [
        "### Reversing a Python String\n",
        "#### 1.With Accessing Characters from a string, we can also reverse them.\n",
        "#### 2.We can Reverse a string by writing [::-1] and the string will be reversed."
      ],
      "metadata": {
        "id": "eJM5hLQ0UPPz"
      }
    },
    {
      "cell_type": "code",
      "source": [
        "# Program to reverse a string\n",
        "String2 = \"Hello World\"\n",
        "print(String2[::-1])"
      ],
      "metadata": {
        "colab": {
          "base_uri": "https://localhost:8080/"
        },
        "id": "K35nO6c4VIKG",
        "outputId": "469cdad7-7c85-482a-fb22-963bfcc50bd4"
      },
      "execution_count": null,
      "outputs": [
        {
          "output_type": "stream",
          "name": "stdout",
          "text": [
            "dlroW olleH\n"
          ]
        }
      ]
    },
    {
      "cell_type": "markdown",
      "source": [
        "#### 3.We can also reverse a string by using built-in join and reversed function."
      ],
      "metadata": {
        "id": "v1q_U8pyYQAR"
      }
    },
    {
      "cell_type": "code",
      "source": [
        "# Pythonto reverse a string\n",
        "\n",
        "String3 = \"I am happy with my Parents\"\n",
        "\n",
        "# Reverse the string using reversed & join function\n",
        "String3 = \"\".join(reversed(String3))\n",
        "print(String3)"
      ],
      "metadata": {
        "colab": {
          "base_uri": "https://localhost:8080/"
        },
        "id": "KPv-xi0RVIM9",
        "outputId": "b85ed37f-7a91-4859-f060-889e886e4c03"
      },
      "execution_count": null,
      "outputs": [
        {
          "output_type": "stream",
          "name": "stdout",
          "text": [
            "stneraP ym htiw yppah ma I\n"
          ]
        }
      ]
    },
    {
      "cell_type": "markdown",
      "source": [
        "### String Slicing\n",
        "#### 1.To access a range of characters in the String, the method of slicing is used.\n",
        "#### 2.Slicing in a String is done by using a Slicing operator (colon). "
      ],
      "metadata": {
        "id": "tqqsQ4sEZH_b"
      }
    },
    {
      "cell_type": "code",
      "source": [
        "# Python program to String slicing\n",
        "\n",
        "# Creating a String\n",
        "String4 = \"PW Skills\"\n",
        "print(\"Initial String: \")\n",
        "print(String4)\n",
        "\n",
        "# Printing 3rd to 12th character\n",
        "print(\"\\nSlicing character from 3-12: \")\n",
        "print(String4[3:12])\n",
        "\n",
        "# Printing character between 3rd and 2nd last character\n",
        "print(\"\\nSlicing character between \" +\n",
        "      \"3rd and 2nd last character: \")\n",
        "print(String4[3:-2])"
      ],
      "metadata": {
        "colab": {
          "base_uri": "https://localhost:8080/"
        },
        "id": "CGvRkYLdVIP6",
        "outputId": "06b215dd-5f8a-49fa-8516-15b0cefc571c"
      },
      "execution_count": null,
      "outputs": [
        {
          "output_type": "stream",
          "name": "stdout",
          "text": [
            "Initial String: \n",
            "PW Skills\n",
            "\n",
            "Slicing character from 3-12: \n",
            "Skills\n",
            "\n",
            "Slicing character between 3rd and 2nd last character: \n",
            "Skil\n"
          ]
        }
      ]
    },
    {
      "cell_type": "markdown",
      "source": [
        "### Deleting/Updating from a String\n",
        "#### 1.In Python, Updation or deletion of characters from a String is not allowed.\n",
        "#### 2. This will cause an error because item assignment or item deletion from a String is not supported. Although deletion of the entire String is possible with the use of a built-in del keyword.\n",
        "#### 3.This is because Strings are immutable, hence elements of a String cannot be changed once it has been assigned.\n",
        "#### 4. Only new strings can be reassigned to the same name. "
      ],
      "metadata": {
        "id": "7qb2_5TRbtml"
      }
    },
    {
      "cell_type": "markdown",
      "source": [
        "#### i.Updation of a character: "
      ],
      "metadata": {
        "id": "5X0AcOSicSO1"
      }
    },
    {
      "cell_type": "code",
      "source": [
        "# Python Program to update character of a string\n",
        "\n",
        "String1 = \"Hello, I am Indian\"\n",
        "print(\"InitIAL String: \")\n",
        "print(String1)\n",
        "\n",
        "# Updating a character of the string\n",
        "## As python string are immutable, they don't support item updating directly\n",
        "### there are following two ways\n",
        "\n",
        "#1\n",
        "list1 = list(String1)\n",
        "print(list1)\n",
        "\n",
        "String2 = ' '.join(list1)\n",
        "print(\"\\nUpdating character at 2nd Index: \")\n",
        "print(String2)\n",
        "\n",
        "#2\n",
        "String3 = String1[0:2] + 'p' + String1[3:]\n",
        "print(String3)"
      ],
      "metadata": {
        "colab": {
          "base_uri": "https://localhost:8080/"
        },
        "id": "-x1dv5O5VITA",
        "outputId": "afaf0c8a-8014-4ecf-b55e-5ad27615e632"
      },
      "execution_count": null,
      "outputs": [
        {
          "output_type": "stream",
          "name": "stdout",
          "text": [
            "InitIAL String: \n",
            "Hello, I am Indian\n",
            "['H', 'e', 'l', 'l', 'o', ',', ' ', 'I', ' ', 'a', 'm', ' ', 'I', 'n', 'd', 'i', 'a', 'n']\n",
            "\n",
            "Updating character at 2nd Index: \n",
            "H e l l o ,   I   a m   I n d i a n\n",
            "Heplo, I am Indian\n"
          ]
        }
      ]
    },
    {
      "cell_type": "code",
      "source": [
        "# Updating a character of the string\n",
        "## As python string are immutable, they don't support item updating directly\n",
        "### there are following two ways\n",
        "\n",
        "#1\n",
        "list1 = list(String1)\n",
        "print(list1)\n",
        "list1[2] = 'p'\n",
        "###############\n",
        "\n",
        "String2 = ' '.join(list1)\n",
        "print(\"\\nUpdating character at 2nd Index: \")\n",
        "print(String2)\n",
        "\n",
        "#2\n",
        "String3 = String1[0:2] + 'p' + String1[3:]\n",
        "print(String3)"
      ],
      "metadata": {
        "colab": {
          "base_uri": "https://localhost:8080/"
        },
        "id": "bAWZ1HICVIWF",
        "outputId": "41dbb23c-987d-43be-d041-515e7393ac3f"
      },
      "execution_count": null,
      "outputs": [
        {
          "output_type": "stream",
          "name": "stdout",
          "text": [
            "['H', 'e', 'l', 'l', 'o', ',', ' ', 'I', ' ', 'a', 'm', ' ', 'I', 'n', 'd', 'i', 'a', 'n']\n",
            "\n",
            "Updating character at 2nd Index: \n",
            "H e p l o ,   I   a m   I n d i a n\n",
            "Heplo, I am Indian\n"
          ]
        }
      ]
    },
    {
      "cell_type": "markdown",
      "source": [
        "#### ii. Updating Entire String:"
      ],
      "metadata": {
        "id": "ksrVBDaffIgL"
      }
    },
    {
      "cell_type": "code",
      "source": [
        "# Python Program to Update\n",
        "# entire String\n",
        " \n",
        "String1 = \"Hello, I'm a Geek\"\n",
        "print(\"Initial String: \")\n",
        "print(String1)\n",
        " \n",
        "# Updating a String\n",
        "String1 = \"Welcome to the Geek World\"\n",
        "print(\"\\nUpdated String: \")\n",
        "print(String1)"
      ],
      "metadata": {
        "colab": {
          "base_uri": "https://localhost:8080/"
        },
        "id": "YF-SyjoXVIZh",
        "outputId": "92fb54c2-3a72-4e02-c9bf-2b575b0e46f0"
      },
      "execution_count": null,
      "outputs": [
        {
          "output_type": "stream",
          "name": "stdout",
          "text": [
            "Initial String: \n",
            "Hello, I'm a Geek\n",
            "\n",
            "Updated String: \n",
            "Welcome to the Geek World\n"
          ]
        }
      ]
    },
    {
      "cell_type": "markdown",
      "source": [
        "#### iii. Deletion of a character: "
      ],
      "metadata": {
        "id": "e5fJMf2xfqq1"
      }
    },
    {
      "cell_type": "code",
      "source": [
        "# Python Program to Delete character from a String\n",
        "\n",
        "String1 = \"Hello, I am the Indian\"\n",
        "print(\"Initial String: \")\n",
        "print(String1)\n",
        "\n",
        "# Deleting a character of the string\n",
        "String2 = String1[0:2] + String1[3:]\n",
        "print(\"\\nDeleting character at 2nd Index: \")\n",
        "print(String2)"
      ],
      "metadata": {
        "colab": {
          "base_uri": "https://localhost:8080/"
        },
        "id": "VzK1xK7KfGaF",
        "outputId": "1173d76c-37c5-48d1-8af2-f0080ca21741"
      },
      "execution_count": null,
      "outputs": [
        {
          "output_type": "stream",
          "name": "stdout",
          "text": [
            "Initial String: \n",
            "Hello, I am the Indian\n",
            "\n",
            "Deleting character at 2nd Index: \n",
            "Helo, I am the Indian\n"
          ]
        }
      ]
    },
    {
      "cell_type": "markdown",
      "source": [
        "#### iv. Deleting Entire String:"
      ],
      "metadata": {
        "id": "o1Gf1E_KhbCV"
      }
    },
    {
      "cell_type": "code",
      "source": [
        "# Python Program to Delete\n",
        "# entire String\n",
        " \n",
        "String1 = \"Hello, I'm a Geek\"\n",
        "print(\"Initial String: \")\n",
        "print(String1)\n",
        " \n",
        "# Deleting a String\n",
        "# with the use of del\n",
        "del String1\n",
        "print(\"\\nDeleting entire String: \")\n",
        "print(String1)"
      ],
      "metadata": {
        "colab": {
          "base_uri": "https://localhost:8080/",
          "height": 270
        },
        "id": "ShWVv1MtfGcb",
        "outputId": "6555d93b-3d28-4fe2-8b29-05176791fe3a"
      },
      "execution_count": null,
      "outputs": [
        {
          "output_type": "stream",
          "name": "stdout",
          "text": [
            "Initial String: \n",
            "Hello, I'm a Geek\n",
            "\n",
            "Deleting entire String: \n"
          ]
        },
        {
          "output_type": "error",
          "ename": "NameError",
          "evalue": "ignored",
          "traceback": [
            "\u001b[0;31m---------------------------------------------------------------------------\u001b[0m",
            "\u001b[0;31mNameError\u001b[0m                                 Traceback (most recent call last)",
            "\u001b[0;32m<ipython-input-17-6420b71dbe05>\u001b[0m in \u001b[0;36m<module>\u001b[0;34m\u001b[0m\n\u001b[1;32m     10\u001b[0m \u001b[0;32mdel\u001b[0m \u001b[0mString1\u001b[0m\u001b[0;34m\u001b[0m\u001b[0;34m\u001b[0m\u001b[0m\n\u001b[1;32m     11\u001b[0m \u001b[0mprint\u001b[0m\u001b[0;34m(\u001b[0m\u001b[0;34m\"\\nDeleting entire String: \"\u001b[0m\u001b[0;34m)\u001b[0m\u001b[0;34m\u001b[0m\u001b[0;34m\u001b[0m\u001b[0m\n\u001b[0;32m---> 12\u001b[0;31m \u001b[0mprint\u001b[0m\u001b[0;34m(\u001b[0m\u001b[0mString1\u001b[0m\u001b[0;34m)\u001b[0m\u001b[0;34m\u001b[0m\u001b[0;34m\u001b[0m\u001b[0m\n\u001b[0m",
            "\u001b[0;31mNameError\u001b[0m: name 'String1' is not defined"
          ]
        }
      ]
    },
    {
      "cell_type": "markdown",
      "source": [
        "### Escape Sequencing in Python\n",
        "#### 1. While printing Strings with single and double quotes in it causes SyntaxError because String already contains Single and Double Quotes and hence cannot be printed with the use of either of these.\n",
        "#### 2. Hence, to print such a String either Triple Quotes are used or Escape sequences are used to print such Strings. \n",
        "#### 3. Escape sequences start with a backslash and can be interpreted differently.\n",
        "#### 4. If single quotes are used to represent a string, then all the single quotes present in the string must be escaped and same is done for Double Quotes. "
      ],
      "metadata": {
        "id": "7hPwJmq6hztn"
      }
    },
    {
      "cell_type": "code",
      "source": [
        "# Python program for Escape sequencing of String\n",
        "\n",
        "# Initial String\n",
        "String1 = '''I'm \"Punekar\"'''\n",
        "print(\"\\nInitial String: \")\n",
        "print(String1)\n",
        "\n",
        "# Escaping Single Quote\n",
        "String1 = 'I\\'m \"Punekar\"'\n",
        "print(\"\\nEscaping Single Quote: \")\n",
        "print(String1)\n",
        "\n",
        "#Escaping Double Quotes\n",
        "String1 = \"I'm \\\"Punekar\\\"\"\n",
        "print(\"\\nEscaping Double Quotes: \")\n",
        "print(\"String1\")\n",
        "\n",
        "# Printing Paths with the use of Tab\n",
        "String1 = \"C:\\\\Python\\\\Geeks\\\\\"\n",
        "print(\"\\nEscaping Backslashes: \")\n",
        "print(String1)\n",
        "\n",
        "# Printing path with the use of Tab\n",
        "String1 = \"Hi\\tAkash\"\n",
        "print(\"\\nTab: \")\n",
        "print(String1)\n",
        "\n",
        "# Printing paths with the use of New Line\n",
        "String1 = \"Python\\nGeeks\"\n",
        "print(\"\\nNew Line: \")\n",
        "print(String1)"
      ],
      "metadata": {
        "colab": {
          "base_uri": "https://localhost:8080/"
        },
        "id": "E0J6eIpnfGhJ",
        "outputId": "b81bcdbc-a9ff-4af8-c822-6478b3cb6a62"
      },
      "execution_count": null,
      "outputs": [
        {
          "output_type": "stream",
          "name": "stdout",
          "text": [
            "\n",
            "Initial String: \n",
            "I'm \"Punekar\"\n",
            "\n",
            "Escaping Single Quote: \n",
            "I'm \"Punekar\"\n",
            "\n",
            "Escaping Double Quotes: \n",
            "String1\n",
            "\n",
            "Escaping Backslashes: \n",
            "C:\\Python\\Geeks\\\n",
            "\n",
            "Tab: \n",
            "Hi\tAkash\n",
            "\n",
            "New Line: \n",
            "Python\n",
            "Geeks\n"
          ]
        }
      ]
    },
    {
      "cell_type": "markdown",
      "source": [
        "#### To ignore the escape sequences in a String, r or R is used, this implies that the string is a raw string and escape sequences inside it are to be ignored."
      ],
      "metadata": {
        "id": "Owq4BCxEmApt"
      }
    },
    {
      "cell_type": "code",
      "source": [
        "# Printing hello in octal\n",
        "String1 = \"This is \\110\\145\\154\\154\\157\"\n",
        "print(\"\\nPrinting in octal with the use of Escape Sequences: \")\n",
        "print(String1)\n",
        "\n",
        "# Using raw String to ignore Escape Sequences\n",
        "String1 = r\"This is \\110\\145\\154\\154\\157\"\n",
        "print(\"\\nPrinting Raw String in Octal Format: \")\n",
        "print(String1)\n",
        "\n",
        "# Printing Geeks in HEX\n",
        "String1 = \"This is \\x47\\x65\\x65\\x6b\\x73 in \\x48\\x45\\x58\"\n",
        "print(\"\\nPrinting in HEX with the use of Escape Sequences: \")\n",
        "print(String1)\n",
        "\n",
        "# Using raw String to ignore Excape Sequences\n",
        "String1 = r\"This is \\x47\\x65\\x65\\x6b\\x73 in \\x48\\x45\\x58\"\n",
        "print(\"\\nPrinting Raw String in HEX Format: \")\n",
        "print(String1)"
      ],
      "metadata": {
        "colab": {
          "base_uri": "https://localhost:8080/"
        },
        "id": "Q7mzJ8pWfGjf",
        "outputId": "beeb2935-fd94-49f0-affa-d4710e24bf2e"
      },
      "execution_count": null,
      "outputs": [
        {
          "output_type": "stream",
          "name": "stdout",
          "text": [
            "\n",
            "Printing in octal with the use of Escape Sequences: \n",
            "This is Hello\n",
            "\n",
            "Printing Raw String in Octal Format: \n",
            "This is \\110\\145\\154\\154\\157\n",
            "\n",
            "Printing in HEX with the use of Escape Sequences: \n",
            "This is Geeks in HEX\n",
            "\n",
            "Printing Raw String in HEX Format: \n",
            "This is \\x47\\x65\\x65\\x6b\\x73 in \\x48\\x45\\x58\n"
          ]
        }
      ]
    },
    {
      "cell_type": "markdown",
      "source": [
        "### Formatting of Strings\n",
        "#### 1. Strings in Python can be formatted with the use of format() method which is a very versatile and powerful tool for formatting Strings.\n",
        "#### 2. Format method in String contains curly braces {} as placeholders which can hold arguments according to position or keyword to specify the order."
      ],
      "metadata": {
        "id": "MykpELfgpBEW"
      }
    },
    {
      "cell_type": "code",
      "source": [
        "# Python program for formatting of Strings.\n",
        "\n",
        "# Default order\n",
        "String1 = \"{} {} {} {}\".format('My', 'name', 'is', 'Akash')\n",
        "print(\"Print the string in Default order: \")\n",
        "print(String1)\n",
        "\n",
        "# Positional Formatting\n",
        "String1 =\"{1} {0} {2} {3}\".format('My', 'name', 'is', 'Akash')\n",
        "print(\"\\nPrint String in Positional order: \")\n",
        "print(String1)\n",
        "\n",
        "# Keyword Formatting\n",
        "String1 = \"{i} {j} {f} {l}\".format(  l='Day',f='my', j='is',i='Today')\n",
        "print(\"\\nPrint String in order of Keywords: \")\n",
        "print(String1)"
      ],
      "metadata": {
        "colab": {
          "base_uri": "https://localhost:8080/"
        },
        "id": "QyPDWD-XfGe8",
        "outputId": "abe1371f-0d70-48ab-9115-7421d239f771"
      },
      "execution_count": null,
      "outputs": [
        {
          "output_type": "stream",
          "name": "stdout",
          "text": [
            "Print the string in Default order: \n",
            "My name is Akash\n",
            "\n",
            "Print String in Positional order: \n",
            "name My is Akash\n",
            "\n",
            "Print String in order of Keywords: \n",
            "Today is my Day\n"
          ]
        }
      ]
    },
    {
      "cell_type": "markdown",
      "source": [
        "#### A string can be left() or center(^) justified with the use of format specifiers, separated by a colon(:).  "
      ],
      "metadata": {
        "id": "rAJWLSRHsCeP"
      }
    },
    {
      "cell_type": "code",
      "source": [
        "# String alignment\n",
        "String1 = \"|{:<10}|{:^10}|{:>10}|\".format('Geeks',\n",
        "                                          'for',\n",
        "                                          'Geeks')\n",
        "print(\"\\nLeft, center and right alignment with Formatting: \")\n",
        "print(String1)\n",
        " \n",
        "# To demonstrate aligning of spaces\n",
        "String1 = \"\\n{0:^16} was founded in {1:<4}!\".format(\"GeeksforGeeks\",\n",
        "                                                    2009)\n",
        "print(String1)"
      ],
      "metadata": {
        "colab": {
          "base_uri": "https://localhost:8080/"
        },
        "id": "0lcoHMQxfGln",
        "outputId": "1fde2803-4ca3-40ae-c2a1-6b047fb6eeff"
      },
      "execution_count": null,
      "outputs": [
        {
          "output_type": "stream",
          "name": "stdout",
          "text": [
            "\n",
            "Left, center and right alignment with Formatting: \n",
            "|Geeks     |   for    |     Geeks|\n",
            "\n",
            " GeeksforGeeks   was founded in 2009!\n"
          ]
        }
      ]
    },
    {
      "cell_type": "markdown",
      "source": [
        "#### Old style formatting was done without the use of format method by using % operator "
      ],
      "metadata": {
        "id": "4f8oQecZsW_k"
      }
    },
    {
      "cell_type": "code",
      "source": [
        "# Python Program for\n",
        "# Old Style Formatting\n",
        "# of Integers\n",
        " \n",
        "Integer1 = 12.3456789\n",
        "print(\"Formatting in 3.2f format: \")\n",
        "print('The value of Integer1 is %3.2f' % Integer1)\n",
        "print(\"\\nFormatting in 3.4f format: \")\n",
        "print('The value of Integer1 is %3.4f' % Integer1)"
      ],
      "metadata": {
        "colab": {
          "base_uri": "https://localhost:8080/"
        },
        "id": "Guxtj0XxfGn-",
        "outputId": "b7f21d9c-13fd-4433-f67d-e585a6e5b16c"
      },
      "execution_count": null,
      "outputs": [
        {
          "output_type": "stream",
          "name": "stdout",
          "text": [
            "Formatting in 3.2f format: \n",
            "The value of Integer1 is 12.35\n",
            "\n",
            "Formatting in 3.4f format: \n",
            "The value of Integer1 is 12.3457\n"
          ]
        }
      ]
    },
    {
      "cell_type": "markdown",
      "source": [
        "#### Integers such as Binary, hexadecimal, etc., and floats can be rounded or displayed in the exponent form with the use of format specifiers. "
      ],
      "metadata": {
        "id": "qtjNcwhZshwl"
      }
    },
    {
      "cell_type": "code",
      "source": [
        "# Formatting of Integers\n",
        "String1 = \"{0:b}\".format(16)\n",
        "print(\"\\nBinary representation of 16 is \")\n",
        "print(String1)\n",
        " \n",
        "# Formatting of Floats\n",
        "String1 = \"{0:e}\".format(165.6458)\n",
        "print(\"\\nExponent representation of 165.6458 is \")\n",
        "print(String1)\n",
        " \n",
        "# Rounding off Integers\n",
        "String1 = \"{0:.2f}\".format(1/6)\n",
        "print(\"\\none-sixth is : \")\n",
        "print(String1)"
      ],
      "metadata": {
        "colab": {
          "base_uri": "https://localhost:8080/"
        },
        "id": "5bTLPrmYfGqV",
        "outputId": "f6f28dec-dcb6-49c3-9b10-941745112dab"
      },
      "execution_count": null,
      "outputs": [
        {
          "output_type": "stream",
          "name": "stdout",
          "text": [
            "\n",
            "Binary representation of 16 is \n",
            "10000\n",
            "\n",
            "Exponent representation of 165.6458 is \n",
            "1.656458e+02\n",
            "\n",
            "one-sixth is : \n",
            "0.17\n"
          ]
        }
      ]
    },
    {
      "cell_type": "code",
      "source": [],
      "metadata": {
        "id": "HRejRxulfGso"
      },
      "execution_count": null,
      "outputs": []
    }
  ]
}