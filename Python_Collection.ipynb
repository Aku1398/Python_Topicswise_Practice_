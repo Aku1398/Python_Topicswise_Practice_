{
  "nbformat": 4,
  "nbformat_minor": 0,
  "metadata": {
    "colab": {
      "provenance": []
    },
    "kernelspec": {
      "name": "python3",
      "display_name": "Python 3"
    },
    "language_info": {
      "name": "python"
    }
  },
  "cells": [
    {
      "cell_type": "markdown",
      "source": [
        "## Python Collections (Arrays)\n",
        "### There are fore collection data types in the Python programming language:\n",
        "\n",
        "#### 1. **List** : is a collection which is ordered and changeable**(Mutable)**. Allows duplicate members.\n",
        "\n",
        "#### 2. **Tuple** : is a colleaction which is ordered and unchangable **(Unmutable)**. Allows duplicate members.\n",
        "\n",
        "#### 3. **Set** : is a collection which is unordered, unchangeable **(Unmutable)** an unindexed. No Duplicate members.\n",
        "\n",
        "#### 4. **Dictionary** : is a collection which is ordered and changeable **(Mutable)**. No duplicate members."
      ],
      "metadata": {
        "id": "QrpiGa9yv9LE"
      }
    },
    {
      "cell_type": "code",
      "execution_count": null,
      "metadata": {
        "id": "A1g2gh_-vZDe"
      },
      "outputs": [],
      "source": []
    }
  ]
}