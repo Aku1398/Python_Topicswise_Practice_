{
  "nbformat": 4,
  "nbformat_minor": 0,
  "metadata": {
    "colab": {
      "provenance": []
    },
    "kernelspec": {
      "name": "python3",
      "display_name": "Python 3"
    },
    "language_info": {
      "name": "python"
    }
  },
  "cells": [
    {
      "cell_type": "code",
      "execution_count": null,
      "metadata": {
        "id": "TusU_erAupsL"
      },
      "outputs": [],
      "source": []
    },
    {
      "cell_type": "markdown",
      "source": [
        "# input ()"
      ],
      "metadata": {
        "id": "IhcgeyAlu7oF"
      }
    },
    {
      "cell_type": "markdown",
      "source": [
        "### This function first takes the input from the user and converts it into a string. The type of the returned object always will be <type ‘str’>."
      ],
      "metadata": {
        "id": "p76OgW9fvCi3"
      }
    },
    {
      "cell_type": "code",
      "source": [],
      "metadata": {
        "id": "iF1MWK0UvMoW"
      },
      "execution_count": null,
      "outputs": []
    },
    {
      "cell_type": "markdown",
      "source": [
        "## Syntax:"
      ],
      "metadata": {
        "id": "o4ATPqohvRvx"
      }
    },
    {
      "cell_type": "markdown",
      "source": [
        "### inp = input('STATEMENT')"
      ],
      "metadata": {
        "id": "jUdI4UqDvZhS"
      }
    },
    {
      "cell_type": "code",
      "source": [
        "val = input(\"Enter the any value : \")\n",
        "print(val)"
      ],
      "metadata": {
        "colab": {
          "base_uri": "https://localhost:8080/"
        },
        "id": "6mLLoywqvU9A",
        "outputId": "7e1b46e0-ce60-47c7-fe01-981f52bdfb95"
      },
      "execution_count": null,
      "outputs": [
        {
          "output_type": "stream",
          "name": "stdout",
          "text": [
            "Enter the any value : 620\n",
            "620\n"
          ]
        }
      ]
    },
    {
      "cell_type": "code",
      "source": [
        "#Taking String as an input:\n",
        "name = input(\"What is your name?\\n\")  # \\n ---> newline  ---> It causes a line break\n",
        "print(name)"
      ],
      "metadata": {
        "colab": {
          "base_uri": "https://localhost:8080/"
        },
        "id": "LRVevNavvq1t",
        "outputId": "c003fb31-7c83-481b-aabc-611af52577bc"
      },
      "execution_count": null,
      "outputs": [
        {
          "output_type": "stream",
          "name": "stdout",
          "text": [
            "What is your name?\n",
            "Akash\n",
            "Akash\n"
          ]
        }
      ]
    },
    {
      "cell_type": "code",
      "source": [
        "#Program to check th input\n",
        "#type in Python\n",
        "\n",
        "num = input(\"Enter the number: \")\n",
        "print(num)\n",
        "name1 = input(\"Enter the name: \")\n",
        "print(name1)\n",
        "\n",
        "## Printing type of the input value\n",
        "print(\"type of the number\", type(num))\n",
        "print(\"type of the name\", type(name1))"
      ],
      "metadata": {
        "colab": {
          "base_uri": "https://localhost:8080/"
        },
        "id": "t8rbhNTnwGtH",
        "outputId": "27bc577f-7082-433a-c210-09e337c0e2b6"
      },
      "execution_count": null,
      "outputs": [
        {
          "output_type": "stream",
          "name": "stdout",
          "text": [
            "Enter the number: 1234567890\n",
            "1234567890\n",
            "Enter the name: Akash Rayate\n",
            "Akash Rayate\n",
            "type of the number <class 'str'>\n",
            "type of the name <class 'str'>\n"
          ]
        }
      ]
    },
    {
      "cell_type": "markdown",
      "source": [
        "## Type casting"
      ],
      "metadata": {
        "id": "sWpKdscrxMck"
      }
    },
    {
      "cell_type": "markdown",
      "source": [
        "### There are the various functions that are used to take as desired input few of them are : -"
      ],
      "metadata": {
        "id": "xTJ8oW10xRoF"
      }
    },
    {
      "cell_type": "markdown",
      "source": [
        "## int(input())\n",
        "## float(input())"
      ],
      "metadata": {
        "id": "8W9UFb_uxduv"
      }
    },
    {
      "cell_type": "code",
      "source": [
        "intNum = int(input(\"Enter the number: \"))\n",
        "print(intNum, \" \", type(intNum))\n",
        "\n",
        "floatNum = float(input(\"Enter any float number : \"))\n",
        "print(floatNum, \" \", type(floatNum))"
      ],
      "metadata": {
        "colab": {
          "base_uri": "https://localhost:8080/"
        },
        "id": "Mf1HuiWaw90u",
        "outputId": "9563176f-86a9-4f77-bfb2-b91041ceb7b8"
      },
      "execution_count": null,
      "outputs": [
        {
          "output_type": "stream",
          "name": "stdout",
          "text": [
            "Enter the number: 123\n",
            "123   <class 'int'>\n",
            "Enter any float number : 12038.435356\n",
            "12038.435356   <class 'float'>\n"
          ]
        }
      ]
    },
    {
      "cell_type": "code",
      "source": [],
      "metadata": {
        "id": "156HZ-XMyPq7"
      },
      "execution_count": null,
      "outputs": []
    },
    {
      "cell_type": "markdown",
      "source": [
        "# Taking input from console in Python"
      ],
      "metadata": {
        "id": "olePRDEezMY6"
      }
    },
    {
      "cell_type": "markdown",
      "source": [
        "### What is Console in Python? Console (also called Shell) is basically a command line interpreter that takes input from the user i.e one command at a time and interprets it. If it is error free then it runs the command and gives required output otherwise shows the error message."
      ],
      "metadata": {
        "id": "ITKWuLFwzYvo"
      }
    },
    {
      "cell_type": "code",
      "source": [
        "#input \n",
        "input1 = input()\n",
        "\n",
        "#output\n",
        "print(input1)"
      ],
      "metadata": {
        "colab": {
          "base_uri": "https://localhost:8080/"
        },
        "id": "jAoVaNtFzPbC",
        "outputId": "311da6b2-9514-4574-9dc3-17c3bd8db3eb"
      },
      "execution_count": null,
      "outputs": [
        {
          "output_type": "stream",
          "name": "stdout",
          "text": [
            "123\n",
            "123\n"
          ]
        }
      ]
    },
    {
      "cell_type": "markdown",
      "source": [
        "## 1.Typecasting the input to Integer"
      ],
      "metadata": {
        "id": "C0-SeYbLztri"
      }
    },
    {
      "cell_type": "markdown",
      "source": [
        "###  There might be conditions when you might require integer input from the user/Console, the following code takes two input(integer/float) from the console and typecasts them to an integer then prints the sum. "
      ],
      "metadata": {
        "id": "uFqB7C-Az4MP"
      }
    },
    {
      "cell_type": "code",
      "source": [
        "#input \n",
        "num1 = int(input())\n",
        "num2 = int(input())\n",
        "\n",
        "#printing the sum in Integer\n",
        "print(num1 + num2)"
      ],
      "metadata": {
        "colab": {
          "base_uri": "https://localhost:8080/"
        },
        "id": "2Mq4gUEXzowL",
        "outputId": "987c5436-6689-4dcd-8dc4-b0aa4fbf421f"
      },
      "execution_count": null,
      "outputs": [
        {
          "output_type": "stream",
          "name": "stdout",
          "text": [
            "45\n",
            "33\n",
            "78\n"
          ]
        }
      ]
    },
    {
      "cell_type": "markdown",
      "source": [
        "## 2.Typecasting the input to Float"
      ],
      "metadata": {
        "id": "TsyQwws7z9uw"
      }
    },
    {
      "cell_type": "markdown",
      "source": [
        "### To convert the input to float the following code will work out. "
      ],
      "metadata": {
        "id": "74KF8P4m0mmX"
      }
    },
    {
      "cell_type": "code",
      "source": [
        "#input\n",
        "f_num=float(input(\"Enter the f_num : \"))\n",
        "f_num1=float(input(\"Enter the F_num1 : \"))\n",
        "\n",
        "#printing the sum in float\n",
        "print(\"Sum of f_num + f_num1 : \", f_num + f_num1)"
      ],
      "metadata": {
        "colab": {
          "base_uri": "https://localhost:8080/"
        },
        "id": "_uBSnf9-0lzz",
        "outputId": "f1e1f01e-0b22-4ad8-c123-548ffe649273"
      },
      "execution_count": null,
      "outputs": [
        {
          "output_type": "stream",
          "name": "stdout",
          "text": [
            "Enter the f_num : 20\n",
            "Enter the F_num1 : 70\n",
            "Sum of f_num + f_num1 :  90.0\n"
          ]
        }
      ]
    },
    {
      "cell_type": "markdown",
      "source": [
        "## 3.Typecasting the input to String"
      ],
      "metadata": {
        "id": "N3ym5MXu1aRp"
      }
    },
    {
      "cell_type": "markdown",
      "source": [
        "### All kinds of input can be converted to string type whether they are float or integer. We make use of keyword str for typecasting. "
      ],
      "metadata": {
        "id": "xbgeRG5N1iAa"
      }
    },
    {
      "cell_type": "code",
      "source": [
        "#input\n",
        "string = str(input(\"Enter any number which will be converted into string : \"))\n",
        "\n",
        "#output\n",
        "print(string)\n",
        "\n",
        "#or by default\n",
        "string_default = input()\n",
        "\n",
        "#output\n",
        "print(string_default)"
      ],
      "metadata": {
        "colab": {
          "base_uri": "https://localhost:8080/"
        },
        "id": "2QDDFZoh1JTX",
        "outputId": "62d194bc-edb1-42a6-946b-a945a16bf1d7"
      },
      "execution_count": null,
      "outputs": [
        {
          "output_type": "stream",
          "name": "stdout",
          "text": [
            "Enter any number which will be converted into string : 23436\n",
            "23436\n",
            "asdfghj\n",
            "asdfghj\n"
          ]
        }
      ]
    },
    {
      "cell_type": "markdown",
      "source": [
        "## Taking multiple inputs from user in Python"
      ],
      "metadata": {
        "id": "ujlrvB271xMA"
      }
    },
    {
      "cell_type": "markdown",
      "source": [
        "### In Python user can take multiple values or inputs in one line by two methods. \n",
        "\n",
        "### 1.Using split() method\n",
        "### 2.Using List comprehension"
      ],
      "metadata": {
        "id": "ANy0O0e76P41"
      }
    },
    {
      "cell_type": "markdown",
      "source": [
        "## Using split() method "
      ],
      "metadata": {
        "id": "5DFhuY_l6P1c"
      }
    },
    {
      "cell_type": "markdown",
      "source": [
        "### This function helps in getting multiple inputs from users. It breaks the given input by the specified separator. If a separator is not provided then any white space is a separator. Generally, users use a split() method to split a Python string but one can use it in taking multiple inputs."
      ],
      "metadata": {
        "id": "b37ts_8h6llP"
      }
    },
    {
      "cell_type": "markdown",
      "source": [
        "### Syntax \n",
        "\n",
        "#### input().split(separator, maxsplit)"
      ],
      "metadata": {
        "id": "whNjMyfH6zSc"
      }
    },
    {
      "cell_type": "code",
      "source": [
        "# Python program showing how to multiple inputs are using split\n",
        "\n",
        "#Taking two inputs\n",
        "\n",
        "x,y = input(\"Enter the value of x and y : \").split()\n",
        "print(\"Enter the value of x:\" , x)\n",
        "print(\"Enter teh value of y:\", y)\n",
        "print()"
      ],
      "metadata": {
        "colab": {
          "base_uri": "https://localhost:8080/"
        },
        "id": "14ps1XUa6PGk",
        "outputId": "b92dd2a2-3b1d-4b49-b632-7f9e7896c388"
      },
      "execution_count": null,
      "outputs": [
        {
          "output_type": "stream",
          "name": "stdout",
          "text": [
            "Enter the value of x and y : 12 15\n",
            "Enter the value of x: 12\n",
            "Enter teh value of y: 15\n",
            "\n"
          ]
        }
      ]
    },
    {
      "cell_type": "code",
      "source": [
        "## taking three inputs\n",
        "##1.total number of student\n",
        "##2.Number of boys\n",
        "##3.Number of girls\n",
        "\n",
        "x,y,z = input(\"Enter the three values : \").split()\n",
        "print(\"Total Number of Students : \",x)\n",
        "print(\"Total Number of Boys: \",y)\n",
        "print(\"Toatal Number of Girls: \",z)"
      ],
      "metadata": {
        "colab": {
          "base_uri": "https://localhost:8080/"
        },
        "id": "jU9B-t397qyA",
        "outputId": "cd5fdeeb-f137-4861-ec58-0b4e3f1b01f8"
      },
      "execution_count": null,
      "outputs": [
        {
          "output_type": "stream",
          "name": "stdout",
          "text": [
            "Enter the three values : 100 40 60\n",
            "Total Number of Students :  100\n",
            "Total Number of Boys:  40\n",
            "Toatal Number of Girls:  60\n"
          ]
        }
      ]
    },
    {
      "cell_type": "code",
      "source": [
        "##Taking two inputs at a time\n",
        "a,b = input(\"Enter the values: \").split()\n",
        "print(\"First number is {} and second number is {}\".format(a,b))"
      ],
      "metadata": {
        "colab": {
          "base_uri": "https://localhost:8080/"
        },
        "id": "Ek0CS7Go8a0K",
        "outputId": "a54b79be-675c-457c-86a2-d4c82716a2eb"
      },
      "execution_count": null,
      "outputs": [
        {
          "output_type": "stream",
          "name": "stdout",
          "text": [
            "Enter the values: 33.33337 66.666667\n",
            "First number is 33.33337 and second number is 66.666667\n"
          ]
        }
      ]
    },
    {
      "cell_type": "code",
      "source": [
        "## Taking multiple inputs at a time\n",
        "# and type casting using list()function\n",
        "\n",
        "x=list(map(int, input(\"Enter multiple values: \").split()))\n",
        "print(\"List of Students: \", x) "
      ],
      "metadata": {
        "colab": {
          "base_uri": "https://localhost:8080/"
        },
        "id": "MuL_ENyM9BqK",
        "outputId": "2d336ec7-3431-42c9-f233-72e9823d7803"
      },
      "execution_count": null,
      "outputs": [
        {
          "output_type": "stream",
          "name": "stdout",
          "text": [
            "Enter multiple values: 10 20 30 40 50 55 65 75 85 90 100\n",
            "List of Students:  [10, 20, 30, 40, 50, 55, 65, 75, 85, 90, 100]\n"
          ]
        }
      ]
    },
    {
      "cell_type": "markdown",
      "source": [
        "## 2.Using List comprehension"
      ],
      "metadata": {
        "id": "Y69C_h9C-Dul"
      }
    },
    {
      "cell_type": "markdown",
      "source": [
        "### List comprehension is an elegant way to define and create list in Python. We can create lists just like mathematical statements in one line only. It is also used in getting multiple inputs from a user."
      ],
      "metadata": {
        "id": "CnFDg_8q-KEC"
      }
    },
    {
      "cell_type": "markdown",
      "source": [
        "#### Python program showing \n",
        "#### how to take multiple inputs\n",
        "#### using List comprehension"
      ],
      "metadata": {
        "id": "tTl1hbhx-XhM"
      }
    },
    {
      "cell_type": "code",
      "source": [
        "# Taking the two input at a time\n",
        "x,y = [int(x) for x in input(\"Enter the two values\").split()]\n",
        "print(\"First number is : \", x)\n",
        "print(\"Second number is : \", y)"
      ],
      "metadata": {
        "colab": {
          "base_uri": "https://localhost:8080/"
        },
        "id": "LN9Qlf5O9ok5",
        "outputId": "6d4dcf17-3af6-45d1-b9ae-2f08c6704bbf"
      },
      "execution_count": null,
      "outputs": [
        {
          "output_type": "stream",
          "name": "stdout",
          "text": [
            "Enter the two values2000 40009\n",
            "First number is :  2000\n",
            "Second number is :  40009\n"
          ]
        }
      ]
    },
    {
      "cell_type": "code",
      "source": [
        "# Taking three input at a time\n",
        "x,y,z = [int(x) for x in input(\"Enter the Three values: \").split()]\n",
        "print(\"First number is :\", x)\n",
        "print(\"Second number is :\", y)\n",
        "print(\"Third number is :\", z)"
      ],
      "metadata": {
        "colab": {
          "base_uri": "https://localhost:8080/"
        },
        "id": "YvIZFs95_F4w",
        "outputId": "f6177dde-2dcf-4b60-ecfa-30c5eee83495"
      },
      "execution_count": null,
      "outputs": [
        {
          "output_type": "stream",
          "name": "stdout",
          "text": [
            "Enter the Three values: 12 23 34\n",
            "First number is : 12\n",
            "Second number is : 23\n",
            "Third number is : 34\n"
          ]
        }
      ]
    },
    {
      "cell_type": "code",
      "source": [
        "# Taking two input at a time\n",
        "x,y = [int(x) for x in input(\"Enter the two number : \").split()]\n",
        "print(\"First number is {} and Second number is {}\".format(x,y))"
      ],
      "metadata": {
        "colab": {
          "base_uri": "https://localhost:8080/"
        },
        "id": "J7Gxs0ww_xHz",
        "outputId": "6585eb57-682b-40fa-be44-76b67ce09485"
      },
      "execution_count": null,
      "outputs": [
        {
          "output_type": "stream",
          "name": "stdout",
          "text": [
            "Enter the two number : 1000 100000\n",
            "First number is 1000 and Second number is 100000\n"
          ]
        }
      ]
    },
    {
      "cell_type": "code",
      "source": [
        "# taking multiple inputs at a time\n",
        "x = [int(x) for x in input(\"Enter the multiple values: \").split()]\n",
        "print(\"Number of list is : \", x)"
      ],
      "metadata": {
        "colab": {
          "base_uri": "https://localhost:8080/"
        },
        "id": "YdKvkL2YAU65",
        "outputId": "d3688f78-90f4-4e38-9a2a-f2f8d29831d0"
      },
      "execution_count": null,
      "outputs": [
        {
          "output_type": "stream",
          "name": "stdout",
          "text": [
            "Enter the multiple values: 1 2 3 4 5 6 7 8 9 0 12 2 3 3 333 34 35 \n",
            "Number of list is :  [1, 2, 3, 4, 5, 6, 7, 8, 9, 0, 12, 2, 3, 3, 333, 34, 35]\n"
          ]
        }
      ]
    },
    {
      "cell_type": "markdown",
      "source": [
        "## Python | Output using print() function"
      ],
      "metadata": {
        "id": "fEEQ9OUfBYLw"
      }
    },
    {
      "cell_type": "markdown",
      "source": [
        "### Python print() function prints the message to the screen or any other standard output device.\n",
        "\n",
        "#### Syntax: \n",
        "#### print(value(s), sep= ' ', end = '\\n', file=file, flush=flush)"
      ],
      "metadata": {
        "id": "I32ovurWBYOU"
      }
    },
    {
      "cell_type": "markdown",
      "source": [
        "#### Parameters: \n",
        "\n",
        "#### 1.value(s): Any value, and as many as you like. Will be converted to a string before printed\n",
        "#### 2.sep=’separator’ : (Optional) Specify how to separate the objects, if there is more than one.Default :’ ‘\n",
        "#### 3.end=’end’: (Optional) Specify what to print at the end.Default : ‘\\n’\n",
        "#### 4.file : (Optional) An object with a write method. Default :sys.stdout\n",
        "#### 5.flush : (Optional) A Boolean, specifying if the output is flushed (True) or buffered (False). Default: False\n",
        "#### Return Type: It returns output to the screen."
      ],
      "metadata": {
        "id": "s6IYJ5u6BYRh"
      }
    },
    {
      "cell_type": "markdown",
      "source": [
        "### String Literals\n",
        "\n",
        "#### String literals in python’s print statement are primarily used to format or design how a specific string appears when printed using the print() function.\n",
        "\n",
        "##### 1. \\n : This string literal is used to add a new blank line while printing a statement.\n",
        "##### 2.“” : An empty quote (“”) is used to print an empty line."
      ],
      "metadata": {
        "id": "0aYudl-2BYUo"
      }
    },
    {
      "cell_type": "code",
      "source": [
        "print(\"Akash is a \\n good boy\")"
      ],
      "metadata": {
        "colab": {
          "base_uri": "https://localhost:8080/"
        },
        "id": "HTUDpilqAt1a",
        "outputId": "db412d22-817c-45d5-9a75-9592603e85cd"
      },
      "execution_count": null,
      "outputs": [
        {
          "output_type": "stream",
          "name": "stdout",
          "text": [
            "Akash is a \n",
            " good boy\n"
          ]
        }
      ]
    },
    {
      "cell_type": "code",
      "source": [
        "print(\"PW skills and Greeks for Greeks are the \\n good learning platforms\")"
      ],
      "metadata": {
        "colab": {
          "base_uri": "https://localhost:8080/"
        },
        "id": "0E7cggmMCyQE",
        "outputId": "3724c98b-371d-459e-ce83-0b22598ff4c5"
      },
      "execution_count": null,
      "outputs": [
        {
          "output_type": "stream",
          "name": "stdout",
          "text": [
            "PW skills and Greeks for Greeks are the \n",
            " good learning platforms\n"
          ]
        }
      ]
    },
    {
      "cell_type": "markdown",
      "source": [
        "### end= ” ” statement"
      ],
      "metadata": {
        "id": "xv7zb773DDDl"
      }
    },
    {
      "cell_type": "markdown",
      "source": [
        "#### The end keyword is used to specify the content that is to be printed at the end of the execution of the print() function. By default, it is set to “\\n”, which leads to the change of line after the execution of print() statement."
      ],
      "metadata": {
        "id": "otHmmqQwDDFy"
      }
    },
    {
      "cell_type": "markdown",
      "source": [
        "#### Python print() without new line."
      ],
      "metadata": {
        "id": "ON4YG3_VDDHw"
      }
    },
    {
      "cell_type": "code",
      "source": [
        "# This line will automatically add a new line before the next print statement.\n",
        "print(\"This is for the without new line printing statement\")"
      ],
      "metadata": {
        "colab": {
          "base_uri": "https://localhost:8080/"
        },
        "id": "tk0C9Ww3C-Ty",
        "outputId": "0000158b-4c43-4f81-cab4-f6d0034cdd7b"
      },
      "execution_count": null,
      "outputs": [
        {
          "output_type": "stream",
          "name": "stdout",
          "text": [
            "This is for the without new line printing statement\n"
          ]
        }
      ]
    },
    {
      "cell_type": "code",
      "source": [
        "# This print() function ends with \"**\" as set in the end argument\n",
        "print(\"PW skills is the best platform for DSA content\", end= \"**\")\n",
        "print(\"The main skill is learning the python language for it\")"
      ],
      "metadata": {
        "colab": {
          "base_uri": "https://localhost:8080/"
        },
        "id": "_CR6L5ryFWbh",
        "outputId": "bae4025a-406a-447a-e6f4-5c8d09230c21"
      },
      "execution_count": null,
      "outputs": [
        {
          "output_type": "stream",
          "name": "stdout",
          "text": [
            "PW skills is the best platform for DSA content**The main skill is learning the python language for it\n"
          ]
        }
      ]
    },
    {
      "cell_type": "markdown",
      "source": [
        "### flush Argument\n",
        "\n",
        "#### The I/Os in python are generally buffered, meaning they are used in chunks. This is where flush comes in as it helps users to decide if they need the written content to be buffered or not. By default, it is set to false. If it is set to true, the output will be written as a sequence of characters one after the other. This process is slow simply because it is easier to write in chunks rather than writing one character at a time. "
      ],
      "metadata": {
        "id": "TZOrG1tOFVEj"
      }
    },
    {
      "cell_type": "code",
      "source": [
        "## initial code\n",
        "import time\n",
        "\n",
        "count_seconds = 3\n",
        "for i in reversed(range(count_seconds + 1)):\n",
        "  if i> 0:\n",
        "    print(i, end='>>>')\n",
        "    time.sleep(1)\n",
        "  else:\n",
        "    print('Start')"
      ],
      "metadata": {
        "colab": {
          "base_uri": "https://localhost:8080/"
        },
        "id": "ccdNHcj7GTjt",
        "outputId": "9e2259aa-8fe7-4a5e-a84f-6e6616f55367"
      },
      "execution_count": null,
      "outputs": [
        {
          "output_type": "stream",
          "name": "stdout",
          "text": [
            "3>>>2>>>1>>>Start\n"
          ]
        }
      ]
    },
    {
      "cell_type": "code",
      "source": [
        "## initial code wit flush argument\n",
        "\n",
        "import time\n",
        "\n",
        "count_seconds = 3\n",
        "for i in reversed(range(count_seconds + 1)):\n",
        "  if i > 0:\n",
        "    print(i, end='>>>', flush= True)\n",
        "    time.sleep(1)\n",
        "  else:\n",
        "    print('Start')\n"
      ],
      "metadata": {
        "colab": {
          "base_uri": "https://localhost:8080/"
        },
        "id": "DYD1GOP3Hs-s",
        "outputId": "430bee31-f38d-4ccc-b60f-96e9699d4d5d"
      },
      "execution_count": null,
      "outputs": [
        {
          "output_type": "stream",
          "name": "stdout",
          "text": [
            "3>>>2>>>1>>>Start\n"
          ]
        }
      ]
    },
    {
      "cell_type": "markdown",
      "source": [
        "### Separator\n",
        "\n",
        "#### The print() function can accept any number of posional arguments. To saperate these positional arguments, keyword argument \"sep\" is used. "
      ],
      "metadata": {
        "id": "Xj00Or_JDDLJ"
      }
    },
    {
      "cell_type": "code",
      "source": [
        "a=12\n",
        "b=12\n",
        "c=2023\n",
        "print(a,b,c,sep=\"-\")"
      ],
      "metadata": {
        "colab": {
          "base_uri": "https://localhost:8080/"
        },
        "id": "kBGIDiJVVX6N",
        "outputId": "b3e78576-5810-499a-9f21-a250c113415c"
      },
      "execution_count": null,
      "outputs": [
        {
          "output_type": "stream",
          "name": "stdout",
          "text": [
            "12-12-2023\n"
          ]
        }
      ]
    },
    {
      "cell_type": "code",
      "source": [
        "print(10,20,sep=\" - \", 30)"
      ],
      "metadata": {
        "colab": {
          "base_uri": "https://localhost:8080/",
          "height": 131
        },
        "id": "zhFKymjZVk2E",
        "outputId": "e57f48da-b4d9-4c01-a839-03c227f1865f"
      },
      "execution_count": null,
      "outputs": [
        {
          "output_type": "error",
          "ename": "SyntaxError",
          "evalue": "ignored",
          "traceback": [
            "\u001b[0;36m  File \u001b[0;32m\"<ipython-input-37-a52f29e68667>\"\u001b[0;36m, line \u001b[0;32m1\u001b[0m\n\u001b[0;31m    print(10,20,sep=\"-\",30)\u001b[0m\n\u001b[0m                        ^\u001b[0m\n\u001b[0;31mSyntaxError\u001b[0m\u001b[0;31m:\u001b[0m positional argument follows keyword argument\n"
          ]
        }
      ]
    },
    {
      "cell_type": "markdown",
      "source": [
        "## File argument"
      ],
      "metadata": {
        "id": "jrA0WWGXWNRC"
      }
    },
    {
      "cell_type": "markdown",
      "source": [
        "#### Contrary to popular belief, the print() function doesn't convert the messages into text on the screen. These are done by lower-level layer of code, that can read data(message) in bytes. The print() function is an interface over these layers, that delegates the actual printing to a stream or file-like object. By defacut, the print() function is bound to sys.stdout through the file argument."
      ],
      "metadata": {
        "id": "06ki6wnDWNUh"
      }
    },
    {
      "cell_type": "code",
      "source": [
        "import io\n",
        "\n",
        "#declare a dummy file\n",
        "dummy_file = io.StringIO()\n",
        "\n",
        "#add message to the dummy file\n",
        "print('Hello Akash!!!', file=dummy_file)\n",
        "\n",
        "#get the value from dummy files\n",
        "dummy_file.getvalue()"
      ],
      "metadata": {
        "colab": {
          "base_uri": "https://localhost:8080/",
          "height": 35
        },
        "id": "OCDKQ7wiVzcB",
        "outputId": "664bcffd-bc91-4559-c73f-21768af5971f"
      },
      "execution_count": null,
      "outputs": [
        {
          "output_type": "execute_result",
          "data": {
            "text/plain": [
              "'Hello Akash!!!\\n'"
            ],
            "application/vnd.google.colaboratory.intrinsic+json": {
              "type": "string"
            }
          },
          "metadata": {},
          "execution_count": 38
        }
      ]
    },
    {
      "cell_type": "markdown",
      "source": [
        "#### Print() function to write content directly t text file."
      ],
      "metadata": {
        "id": "5mtDh5zgX30f"
      }
    },
    {
      "cell_type": "code",
      "source": [
        "print('Welcome to the Pune.!!!', file=open('Textfile.txt', 'w'))"
      ],
      "metadata": {
        "id": "jmuqC1p4Xsnl"
      },
      "execution_count": null,
      "outputs": []
    },
    {
      "cell_type": "markdown",
      "source": [
        "#### Using print() function in python"
      ],
      "metadata": {
        "id": "EzGjRLUWYkqZ"
      }
    },
    {
      "cell_type": "code",
      "source": [
        "## how to print data on screen\n",
        "\n",
        "# One object is passed\n",
        "print(\"Akash Rayate\")\n",
        "\n",
        "x = 5\n",
        "#Two objects are passed\n",
        "print(\"X= \", x)\n",
        "\n",
        "#code for disabling the softspace feacher\n",
        "print('G', 'F', 'G', sep='')\n",
        "\n",
        "#using end argument\n",
        "print(\"Python\", end='@')\n",
        "print(\"GreeksforGreeks\")"
      ],
      "metadata": {
        "colab": {
          "base_uri": "https://localhost:8080/"
        },
        "id": "VQwK0rRaYO8d",
        "outputId": "2a09b2a0-5d1e-45c0-8329-f7ea98ebccc4"
      },
      "execution_count": null,
      "outputs": [
        {
          "output_type": "stream",
          "name": "stdout",
          "text": [
            "Akash Rayate\n",
            "X=  5\n",
            "GFG\n",
            "Python@GreeksforGreeks\n"
          ]
        }
      ]
    },
    {
      "cell_type": "markdown",
      "source": [
        "### How to print withot newline in python"
      ],
      "metadata": {
        "id": "TIhSRir5Z48l"
      }
    },
    {
      "cell_type": "code",
      "source": [
        "# Pythone 2 code for printing \n",
        "# on the same line printing \n",
        "# geeks and geeksforgeeks\n",
        "# in same line.\n",
        "\n",
        "print(\"geeks\", end=' '),\n",
        "print(\"geeksforgeeks\")\n",
        "\n",
        "#array \n",
        "a = [1,2,3,4]\n",
        "\n",
        "# printing a element in same \n",
        "# line \n",
        "for i in range(4):\n",
        "  print(a[i], end=' ')\n"
      ],
      "metadata": {
        "colab": {
          "base_uri": "https://localhost:8080/"
        },
        "id": "Xqp98q2VZco9",
        "outputId": "90e62079-630e-4e51-e490-8bdd9f97f882"
      },
      "execution_count": null,
      "outputs": [
        {
          "output_type": "stream",
          "name": "stdout",
          "text": [
            "geeks geeksforgeeks\n",
            "1 2 3 4 "
          ]
        }
      ]
    },
    {
      "cell_type": "markdown",
      "source": [],
      "metadata": {
        "id": "0uD9F4zRZ5BZ"
      }
    },
    {
      "cell_type": "code",
      "source": [
        "# Print without newline in Python 3.x without using for loop\n",
        " \n",
        "l = [1, 2, 3, 4, 5, 6]\n",
        " \n",
        "# using * symbol prints the list\n",
        "# elements in a single line\n",
        "print(*l)\n",
        " \n",
        "#This code is contributed by anuragsingh1022\n"
      ],
      "metadata": {
        "colab": {
          "base_uri": "https://localhost:8080/"
        },
        "id": "HzEFY70jbXF-",
        "outputId": "0317ca52-1ffa-41e1-ee9e-307c9f719a66"
      },
      "execution_count": null,
      "outputs": [
        {
          "output_type": "stream",
          "name": "stdout",
          "text": [
            "1 2 3 4 5 6\n"
          ]
        }
      ]
    },
    {
      "cell_type": "markdown",
      "source": [],
      "metadata": {
        "id": "SCYpEu-IZ5D0"
      }
    },
    {
      "cell_type": "code",
      "source": [
        "import sys\n",
        " \n",
        "sys.stdout.write(\"GeeksforGeeks \")\n",
        "sys.stdout.write(\"is best website for coding!\")"
      ],
      "metadata": {
        "id": "DqwXNI6MbbUf",
        "outputId": "d6c26383-de97-47d4-e394-7802d0a42a15",
        "colab": {
          "base_uri": "https://localhost:8080/"
        }
      },
      "execution_count": null,
      "outputs": [
        {
          "output_type": "stream",
          "name": "stdout",
          "text": [
            "GeeksforGeeks is best website for coding!"
          ]
        }
      ]
    },
    {
      "cell_type": "markdown",
      "source": [
        "## Python end parameter in print()"
      ],
      "metadata": {
        "id": "ZWSBzYPKZ5HO"
      }
    },
    {
      "cell_type": "code",
      "source": [
        "# ends the output with a space\n",
        "print(\"Welcome to\", end=' ')\n",
        "print(\"Pune\", end=' ')"
      ],
      "metadata": {
        "id": "9bzfYNG8BFlF",
        "outputId": "dada44ee-1614-41a8-d716-b8ab5ba23f9f",
        "colab": {
          "base_uri": "https://localhost:8080/"
        }
      },
      "execution_count": null,
      "outputs": [
        {
          "output_type": "stream",
          "name": "stdout",
          "text": [
            "Welcome to Pune "
          ]
        }
      ]
    },
    {
      "cell_type": "code",
      "source": [
        "#end the output with '@'\n",
        "print(\"Python\", end='@')\n",
        "print(\"is the Great Language\")"
      ],
      "metadata": {
        "id": "cQPNjlaeBcuq",
        "outputId": "96a386bc-7742-48ca-e315-4ee0f8509252",
        "colab": {
          "base_uri": "https://localhost:8080/"
        }
      },
      "execution_count": null,
      "outputs": [
        {
          "output_type": "stream",
          "name": "stdout",
          "text": [
            "Python@is the Great Language\n"
          ]
        }
      ]
    },
    {
      "cell_type": "code",
      "source": [
        "#Print with end and sep parameter\n",
        "print('G', 'F', sep='-', end='')\n",
        "print('G')\n",
        "\n",
        "#\\n provides new line after printing the year\n",
        "print('9', '12', '2023', sep='-', end='\\n')\n",
        "\n",
        "print('Red','Green','Blue', sep='-', end='@')\n",
        "print('printing')"
      ],
      "metadata": {
        "id": "z12ZSnWJB1i_",
        "outputId": "f43df5c0-3c09-4fe7-d813-5026c6299d00",
        "colab": {
          "base_uri": "https://localhost:8080/"
        }
      },
      "execution_count": null,
      "outputs": [
        {
          "output_type": "stream",
          "name": "stdout",
          "text": [
            "G-FG\n",
            "9-12-2023\n",
            "Red-Green-Blue@printing\n"
          ]
        }
      ]
    },
    {
      "cell_type": "markdown",
      "source": [
        "## Python | Output Formatting\n"
      ],
      "metadata": {
        "id": "zPR4nmTqE096"
      }
    },
    {
      "cell_type": "markdown",
      "source": [
        "#### There are several ways to format output. \n",
        "\n",
        "##### To use formatted string literals, begin a string with f or F before the opening quotation mark or triple quotation mark.\n",
        "##### The str. format() method of strings helps a user create a fancier output\n",
        "##### Users can do all the string handling by using string slicing and concatenation operations to create any layout that the users want. The string type has some methods that perform useful operations for padding strings to a given column width."
      ],
      "metadata": {
        "id": "8mhPtE5BE1AN"
      }
    },
    {
      "cell_type": "markdown",
      "source": [
        "### Formatting output using String modulo operator(%) : \n",
        "##### The % operator can also be used for string formatting. It interprets the left argument much like a printf()-style format as in C language strings to be applied to the right argument."
      ],
      "metadata": {
        "id": "VJg9C7QlE1Dl"
      }
    },
    {
      "cell_type": "code",
      "source": [
        "# Python program showing how to use\n",
        "# string module opereator(%) to print\n",
        "# fancier output\n",
        "\n",
        "# print integer and fload value\n",
        "print(\"Geeks : %2d, Portal : %5.2f\" % (1, 5.33))"
      ],
      "metadata": {
        "id": "q_e-7RaJC-Ls",
        "outputId": "52ad75fb-3276-4200-99f6-03fa09b78f20",
        "colab": {
          "base_uri": "https://localhost:8080/"
        }
      },
      "execution_count": null,
      "outputs": [
        {
          "output_type": "stream",
          "name": "stdout",
          "text": [
            "Geeks :  1, Portal :  5.33\n"
          ]
        }
      ]
    },
    {
      "cell_type": "code",
      "source": [
        "#print integer value\n",
        "print(\"Total student : %3d, Boys : %2d\" % (240,120))"
      ],
      "metadata": {
        "id": "rOg1dhMOGs2K",
        "outputId": "d5d70d59-48e2-4be5-dc76-112fb94e7239",
        "colab": {
          "base_uri": "https://localhost:8080/"
        }
      },
      "execution_count": null,
      "outputs": [
        {
          "output_type": "stream",
          "name": "stdout",
          "text": [
            "Total student : 240, Boys : 120\n"
          ]
        }
      ]
    },
    {
      "cell_type": "code",
      "source": [
        "#print octal value\n",
        "print(\"%7.3o\" % (25))"
      ],
      "metadata": {
        "id": "NCzjx2jmHACH",
        "outputId": "34b484a2-c9b2-4308-cb34-e8c5c09d85fe",
        "colab": {
          "base_uri": "https://localhost:8080/"
        }
      },
      "execution_count": null,
      "outputs": [
        {
          "output_type": "stream",
          "name": "stdout",
          "text": [
            "    031\n"
          ]
        }
      ]
    },
    {
      "cell_type": "code",
      "source": [
        "# print exponential value\n",
        "print(\"%10.3E\" % (356.08977))"
      ],
      "metadata": {
        "id": "xpTAP-5uHTsZ",
        "outputId": "bc274b9a-11ee-4892-bf18-4d5e47e8ef8b",
        "colab": {
          "base_uri": "https://localhost:8080/"
        }
      },
      "execution_count": null,
      "outputs": [
        {
          "output_type": "stream",
          "name": "stdout",
          "text": [
            " 3.561E+02\n"
          ]
        }
      ]
    },
    {
      "cell_type": "markdown",
      "source": [
        "### Formatting output using the format method : "
      ],
      "metadata": {
        "id": "OKmPGFm5IEmt"
      }
    },
    {
      "cell_type": "code",
      "source": [
        "# Python program showing \n",
        "#use of format() method\n",
        "\n",
        "#using format() method\n",
        "print('I love {} for \"{}!!!\"'.format('Mother', 'Dad'))"
      ],
      "metadata": {
        "id": "1kixnQv4HzJF",
        "outputId": "3950c016-bb06-4b1f-af2f-f62dfcf89ffa",
        "colab": {
          "base_uri": "https://localhost:8080/"
        }
      },
      "execution_count": null,
      "outputs": [
        {
          "output_type": "stream",
          "name": "stdout",
          "text": [
            "I love Mother for \"Dad!!!\"\n"
          ]
        }
      ]
    },
    {
      "cell_type": "code",
      "source": [
        "#using format() method and referring \n",
        "# a position of the object\n",
        "\n",
        "print('{0} and {1}'.format(\"Mother\", \"Dad\"))\n",
        "print('{1} and {0}'.format(\"Mother\", \"Dad\"))"
      ],
      "metadata": {
        "id": "HhmP8io6Imkg",
        "outputId": "92b376ea-975c-4f55-8615-4e53dca7d001",
        "colab": {
          "base_uri": "https://localhost:8080/"
        }
      },
      "execution_count": null,
      "outputs": [
        {
          "output_type": "stream",
          "name": "stdout",
          "text": [
            "Mother and Dad\n",
            "Dad and Mother\n"
          ]
        }
      ]
    },
    {
      "cell_type": "code",
      "source": [
        "#The above formatting can also be done by using f-strings\n",
        "#Although, this feachers work only with python 3.6 and above\n",
        "\n",
        "print(f\"I love {'Pune'} for \\\"{'Education'}!\\\"\")"
      ],
      "metadata": {
        "id": "G9T46ySnJLzG",
        "outputId": "0ce2c26c-b1f6-4bf3-ebba-29b0b7ce1760",
        "colab": {
          "base_uri": "https://localhost:8080/"
        }
      },
      "execution_count": null,
      "outputs": [
        {
          "output_type": "stream",
          "name": "stdout",
          "text": [
            "I love Pune for \"Education!\"\n"
          ]
        }
      ]
    },
    {
      "cell_type": "code",
      "source": [
        "#using the format() method and referring \n",
        "#a position of the object\n",
        "\n",
        "print(f\"{'Geeks'} and {'Portal'}\")"
      ],
      "metadata": {
        "id": "qg4kY_QQJztM",
        "outputId": "cca818c3-f19e-4065-86f0-4dd2ddbea96c",
        "colab": {
          "base_uri": "https://localhost:8080/"
        }
      },
      "execution_count": null,
      "outputs": [
        {
          "output_type": "stream",
          "name": "stdout",
          "text": [
            "Geeks and Portal\n"
          ]
        }
      ]
    },
    {
      "cell_type": "code",
      "source": [
        "# using format() method with number\n",
        "print(\"Geeks :{0:2d}, Portal :{1:8.2f}\".format(12,00.546))"
      ],
      "metadata": {
        "id": "dfMKmA6FKXYl",
        "outputId": "941bef91-e82d-4983-a38c-ea4a05111e2f",
        "colab": {
          "base_uri": "https://localhost:8080/"
        }
      },
      "execution_count": null,
      "outputs": [
        {
          "output_type": "stream",
          "name": "stdout",
          "text": [
            "Geeks :12, Portal :    0.55\n"
          ]
        }
      ]
    },
    {
      "cell_type": "code",
      "source": [
        "#Combining positional and keyword arguments\n",
        "print('Number one portal is {0}, {1}, and {other}.'.format('akash', 'for', other='Rayate'))"
      ],
      "metadata": {
        "id": "BAMX6mUfK3ll",
        "outputId": "de9af522-f185-4d4a-c302-76151324dea3",
        "colab": {
          "base_uri": "https://localhost:8080/"
        }
      },
      "execution_count": null,
      "outputs": [
        {
          "output_type": "stream",
          "name": "stdout",
          "text": [
            "Number one portal is akash, for, and Rayate.\n"
          ]
        }
      ]
    },
    {
      "cell_type": "code",
      "source": [
        "#Changing positional argument\n",
        "print(\"Second argument: {1:3d}, first on: {0:7.2f}\".format(47.42,11))"
      ],
      "metadata": {
        "id": "xXQbhuijLck4",
        "outputId": "883602fd-0dbe-4adf-af63-cb75d1cc703d",
        "colab": {
          "base_uri": "https://localhost:8080/"
        }
      },
      "execution_count": null,
      "outputs": [
        {
          "output_type": "stream",
          "name": "stdout",
          "text": [
            "Second argument:  11, first on:   47.42\n"
          ]
        }
      ]
    },
    {
      "cell_type": "code",
      "source": [
        "# Python program to\n",
        "# show format() is\n",
        "# used in dictionary\n",
        "\n",
        "tab = {'geeks':4127, 'for':4567, 'geek':87654654}\n",
        "\n",
        "#using format() in dictionary\n",
        "print('Geeks:{0[geeks]:d}; For: {0[for]:d};' 'Geeks: {0[geek]:d}'.format(tab))\n",
        "\n",
        "data = dict(fun=\"GeeksForGeeks\", adj = \"Prtal\")\n",
        "\n",
        "#using format() in dictionary\n",
        "print(\"I love {fun} computer {adj}\".format(**data))"
      ],
      "metadata": {
        "id": "HosbFPYiL4WX",
        "outputId": "4d0bb62c-0ee4-405f-b280-f4658f609269",
        "colab": {
          "base_uri": "https://localhost:8080/"
        }
      },
      "execution_count": null,
      "outputs": [
        {
          "output_type": "stream",
          "name": "stdout",
          "text": [
            "Geeks:4127; For: 4567;Geeks: 87654654\n",
            "I love GeeksForGeeks computer Prtal\n"
          ]
        }
      ]
    },
    {
      "cell_type": "code",
      "source": [
        "# Python program to\n",
        "# format a output \n",
        "# string() method\n",
        "\n",
        "str = \"Ilove my Pune\"\n",
        "\n",
        "#Printing the center aligned\n",
        "# string with fillchr\n",
        "\n",
        "print(\"Center aligned string with fillchr: \")\n",
        "print(str.center(22,'#'))\n",
        "\n",
        "##Printing the left aligned\n",
        "#string with \"-\" padding\n",
        "print(\"The left aligned string is : \")\n",
        "print(str.ljust(40, '-'))\n",
        "\n",
        "#Printing the right aligned string\n",
        "#with \"-\" padding\n",
        "print(\"The right aligned string is : \")\n",
        "print(str.rjust(54,'-'))"
      ],
      "metadata": {
        "id": "caSTW7lGNliA",
        "outputId": "97da8ef7-a752-463a-8fc8-0a58837fd7e3",
        "colab": {
          "base_uri": "https://localhost:8080/"
        }
      },
      "execution_count": null,
      "outputs": [
        {
          "output_type": "stream",
          "name": "stdout",
          "text": [
            "Center aligned string with fillchr: \n",
            "####Ilove my Pune#####\n",
            "The left aligned string is : \n",
            "Ilove my Pune---------------------------\n",
            "The right aligned string is : \n",
            "-----------------------------------------Ilove my Pune\n"
          ]
        }
      ]
    },
    {
      "cell_type": "code",
      "source": [],
      "metadata": {
        "id": "Xp3e6YSePUNc"
      },
      "execution_count": null,
      "outputs": []
    }
  ]
}