{
  "nbformat": 4,
  "nbformat_minor": 0,
  "metadata": {
    "colab": {
      "provenance": []
    },
    "kernelspec": {
      "name": "python3",
      "display_name": "Python 3"
    },
    "language_info": {
      "name": "python"
    }
  },
  "cells": [
    {
      "cell_type": "markdown",
      "source": [
        "#Slicing Strings\n",
        "#### You can return a range of characters by using the slice syntax.\n",
        "#### Specify the start index and the end index, separated by a colon, to return a part of the string."
      ],
      "metadata": {
        "id": "7iUeWlGipBcK"
      }
    },
    {
      "cell_type": "code",
      "execution_count": 1,
      "metadata": {
        "colab": {
          "base_uri": "https://localhost:8080/"
        },
        "id": "UzqBQvfIo6A5",
        "outputId": "61ffeb76-b3d9-4e2b-bc0a-24011ccd8061"
      },
      "outputs": [
        {
          "output_type": "stream",
          "name": "stdout",
          "text": [
            "llo\n"
          ]
        }
      ],
      "source": [
        "# Get the characters from position 2 to position 5(not included):\n",
        "b = \"Hello, World!\"\n",
        "print(b[2:5])"
      ]
    },
    {
      "cell_type": "code",
      "source": [
        "a = \"Akash, you are the great learner!\"\n",
        "print(a[3:15])"
      ],
      "metadata": {
        "colab": {
          "base_uri": "https://localhost:8080/"
        },
        "id": "rAqhpM9mp8gM",
        "outputId": "97c3d03d-132f-4daa-b7e3-020a4a201312"
      },
      "execution_count": 2,
      "outputs": [
        {
          "output_type": "stream",
          "name": "stdout",
          "text": [
            "sh, you are \n"
          ]
        }
      ]
    },
    {
      "cell_type": "markdown",
      "source": [
        "## Slice from the Start\n",
        "#### By leaving out the start index, the range will start at the first character:\n"
      ],
      "metadata": {
        "id": "p7UAGMf3qbAc"
      }
    },
    {
      "cell_type": "code",
      "source": [
        "a = \"Hello, World!\"\n",
        "print(a[:5])"
      ],
      "metadata": {
        "colab": {
          "base_uri": "https://localhost:8080/"
        },
        "id": "TMC8FlYjqT_U",
        "outputId": "6e46eea0-8ed4-4639-c9f6-db2ba8296b58"
      },
      "execution_count": 4,
      "outputs": [
        {
          "output_type": "stream",
          "name": "stdout",
          "text": [
            "Hello\n"
          ]
        }
      ]
    },
    {
      "cell_type": "markdown",
      "source": [
        "## Slice to the End\n",
        "#### By leaving out the end index, the range all the way to the end:\n"
      ],
      "metadata": {
        "id": "SsylWb6frydd"
      }
    },
    {
      "cell_type": "code",
      "source": [
        "b = \"Hey Akash, are you there?\"\n",
        "print(b[3:])"
      ],
      "metadata": {
        "colab": {
          "base_uri": "https://localhost:8080/"
        },
        "id": "vonoRPIqro8w",
        "outputId": "d49bbe18-fadb-4f13-85b7-ccf310e8f616"
      },
      "execution_count": 5,
      "outputs": [
        {
          "output_type": "stream",
          "name": "stdout",
          "text": [
            " Akash, are you there?\n"
          ]
        }
      ]
    },
    {
      "cell_type": "markdown",
      "source": [
        "## Negative Indexing\n",
        "#### Use negative indexes to the slice from the end of the string \n"
      ],
      "metadata": {
        "id": "vdpFKA16sPoQ"
      }
    },
    {
      "cell_type": "code",
      "source": [
        "# Example\n",
        "#Get the Chareacters:\n",
        "#From: \"o\" in \"World!\" (positive -5)\n",
        "#To, but not included: \"d\" in \"World!\"\n",
        "b = \"Hello, World!\"\n",
        "print(b[-5:-2])"
      ],
      "metadata": {
        "colab": {
          "base_uri": "https://localhost:8080/"
        },
        "id": "cKvhb1ERsLM-",
        "outputId": "32520861-684b-48c7-dc26-9af47dc58b43"
      },
      "execution_count": 6,
      "outputs": [
        {
          "output_type": "stream",
          "name": "stdout",
          "text": [
            "orl\n"
          ]
        }
      ]
    },
    {
      "cell_type": "code",
      "source": [],
      "metadata": {
        "id": "JSU9uroUtISn"
      },
      "execution_count": null,
      "outputs": []
    }
  ]
}