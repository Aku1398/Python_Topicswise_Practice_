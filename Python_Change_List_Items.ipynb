{
  "nbformat": 4,
  "nbformat_minor": 0,
  "metadata": {
    "colab": {
      "provenance": []
    },
    "kernelspec": {
      "name": "python3",
      "display_name": "Python 3"
    },
    "language_info": {
      "name": "python"
    }
  },
  "cells": [
    {
      "cell_type": "markdown",
      "source": [
        "# Python - Change List Items\n",
        "## Change Item Value \n",
        "#### To change the value of the specified items, refers to the index number:\n"
      ],
      "metadata": {
        "id": "khmGtfaMDbHP"
      }
    },
    {
      "cell_type": "code",
      "execution_count": 4,
      "metadata": {
        "colab": {
          "base_uri": "https://localhost:8080/"
        },
        "id": "DEOdvFriDWZ_",
        "outputId": "f9debc1b-a64e-49d4-ede5-e3d5c543ba75"
      },
      "outputs": [
        {
          "output_type": "stream",
          "name": "stdout",
          "text": [
            "['apple', 'banana', 'cherry']\n",
            "['apple', 'blackcurrent', 'cherry']\n"
          ]
        }
      ],
      "source": [
        "# Change the Second item :\n",
        "thislist = [\"apple\", \"banana\", \"cherry\"]\n",
        "print(thislist)\n",
        "thislist[1] = \"blackcurrent\"\n",
        "print(thislist)"
      ]
    },
    {
      "cell_type": "markdown",
      "source": [
        "### Change a Range od item Values\n",
        "#### Change the values \"banana\" and \"cherry\" with the values of \"blackcurrant\" and \"watermelon\"\n"
      ],
      "metadata": {
        "id": "zfYJ98ybEqFm"
      }
    },
    {
      "cell_type": "code",
      "source": [
        "thislist = [\"apple\",\"banana\",\"cherry\", \"orange\", \"kiwi\", \"mango\"]\n",
        "print(thislist)\n",
        "thislist[1:3] = [\"blackcurrent\", \"watermelon\"]\n",
        "print(thislist) "
      ],
      "metadata": {
        "colab": {
          "base_uri": "https://localhost:8080/"
        },
        "id": "VVgtdiQUD_SV",
        "outputId": "ddd502ae-01fe-40f8-e61a-4cba934ccb50"
      },
      "execution_count": 6,
      "outputs": [
        {
          "output_type": "stream",
          "name": "stdout",
          "text": [
            "['apple', 'banana', 'cherry', 'orange', 'kiwi', 'mango']\n",
            "['apple', 'blackcurrent', 'watermelon', 'orange', 'kiwi', 'mango']\n"
          ]
        }
      ]
    },
    {
      "cell_type": "markdown",
      "source": [
        "### If you ionsert more items than you replace, the new items will be inserted where you specified, and the remaining items will move accordingly:\n"
      ],
      "metadata": {
        "id": "hJTFFcdXFrh_"
      }
    },
    {
      "cell_type": "code",
      "source": [
        "# Change the second value by replacing it with two values:\n",
        "thislist = [\"apple\", \"banana\", \"cherry\"]\n",
        "thislist[1:2] = [\"blackcurrant\", \"watermelon\"]\n",
        "print(thislist)"
      ],
      "metadata": {
        "colab": {
          "base_uri": "https://localhost:8080/"
        },
        "id": "aDpDKQRPFew7",
        "outputId": "d3176460-a8eb-46c1-8426-f5d145a54e9a"
      },
      "execution_count": 7,
      "outputs": [
        {
          "output_type": "stream",
          "name": "stdout",
          "text": [
            "['apple', 'blackcurrant', 'watermelon', 'cherry']\n"
          ]
        }
      ]
    },
    {
      "cell_type": "markdown",
      "source": [
        "### If you insert less items than you replace, the new items will be inserted where you specified, and the remaining items will move accordingly:\n"
      ],
      "metadata": {
        "id": "ZTRRa5MLGaWC"
      }
    },
    {
      "cell_type": "code",
      "source": [
        "# Change the second and thiord value by replacing it with one value:\n",
        "thislist = [\"apple\", \"banana\", \"cherry\"]\n",
        "thislist[1:3] = [\"watermelon\"]\n",
        "print(thislist)"
      ],
      "metadata": {
        "colab": {
          "base_uri": "https://localhost:8080/"
        },
        "id": "v1gbAZKgGUB-",
        "outputId": "8ae9e17c-5840-4dee-ccae-244608ed88a8"
      },
      "execution_count": 8,
      "outputs": [
        {
          "output_type": "stream",
          "name": "stdout",
          "text": [
            "['apple', 'watermelon']\n"
          ]
        }
      ]
    },
    {
      "cell_type": "code",
      "source": [],
      "metadata": {
        "id": "CKhV5Lf8HD3d"
      },
      "execution_count": null,
      "outputs": []
    }
  ]
}