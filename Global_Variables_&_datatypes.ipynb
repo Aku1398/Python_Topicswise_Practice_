{
  "nbformat": 4,
  "nbformat_minor": 0,
  "metadata": {
    "colab": {
      "provenance": []
    },
    "kernelspec": {
      "name": "python3",
      "display_name": "Python 3"
    },
    "language_info": {
      "name": "python"
    }
  },
  "cells": [
    {
      "cell_type": "code",
      "execution_count": 1,
      "metadata": {
        "colab": {
          "base_uri": "https://localhost:8080/"
        },
        "id": "sdp0BHlh1V-S",
        "outputId": "2501196c-db81-4075-8bb7-38254374d636"
      },
      "outputs": [
        {
          "output_type": "stream",
          "name": "stdout",
          "text": [
            "Python is awsm\n"
          ]
        }
      ],
      "source": [
        "#Global Variables\n",
        "\n",
        "#Variables that are created outside of a function are known as global variables\n",
        "\n",
        "#Global variables can be used by everyone,bothe inside of function and outside.\n",
        "\n",
        "x = \"awsm\"\n",
        "\n",
        "def myfunc():\n",
        "  print(\"Python is \" + x)\n",
        "\n",
        "myfunc()"
      ]
    },
    {
      "cell_type": "code",
      "source": [
        "#If you create a variable with the same name inside a function, this variable will be local, and can only be used inside the function. \n",
        "#The global variable with the same name will remain as it was, global and with the original value.\n",
        "\n",
        "x = \"awsm\"\n",
        "\n",
        "def myfunc():\n",
        "  x = \"fantastic\"\n",
        "  print(\"Python is \" + x)\n",
        "\n",
        "myfunc()\n",
        "\n",
        "print(\"Python is \" + x)"
      ],
      "metadata": {
        "colab": {
          "base_uri": "https://localhost:8080/"
        },
        "id": "OTwzLZDD2JQH",
        "outputId": "31539a40-0311-40b9-ca3b-5cb24db5f237"
      },
      "execution_count": 2,
      "outputs": [
        {
          "output_type": "stream",
          "name": "stdout",
          "text": [
            "Python is fantastic\n",
            "Python is awsm\n"
          ]
        }
      ]
    },
    {
      "cell_type": "code",
      "source": [
        "#To create a global variable inside a function, you can use the global keyword.\n",
        "\n",
        "def mynewfunc():\n",
        "  global x\n",
        "  x = \"fantastic\"\n",
        "\n",
        "mynewfunc()\n",
        "\n",
        "print(\"Python is \" + x)"
      ],
      "metadata": {
        "colab": {
          "base_uri": "https://localhost:8080/"
        },
        "id": "dcGc9uwj2x4x",
        "outputId": "a223922f-d012-401a-d7fc-606338790840"
      },
      "execution_count": 3,
      "outputs": [
        {
          "output_type": "stream",
          "name": "stdout",
          "text": [
            "Python is fantastic\n"
          ]
        }
      ]
    },
    {
      "cell_type": "code",
      "source": [
        "#To change the value of a global variable inside a function, refer to the variable by using the global keyword:\n",
        "\n",
        "x = \"awsm\"\n",
        "\n",
        "def myfunc():\n",
        "  global x\n",
        "  x = \"fantastic\"\n",
        "\n",
        "myfunc()\n",
        "\n",
        "print(\"Python is \" +x)"
      ],
      "metadata": {
        "colab": {
          "base_uri": "https://localhost:8080/"
        },
        "id": "UvsF1ctS3J3i",
        "outputId": "54d510ad-4326-47fc-a881-31c429ce3491"
      },
      "execution_count": 4,
      "outputs": [
        {
          "output_type": "stream",
          "name": "stdout",
          "text": [
            "Python is fantastic\n"
          ]
        }
      ]
    },
    {
      "cell_type": "markdown",
      "source": [
        "###Python has the following data types built-in by default, in these categories:\n",
        "\n",
        "#### 1.Text Type: str\n",
        "#### 2.Numeric Types: int,float,complex\n",
        "#### 3.Sequence Types: list,tuple,range\n",
        "#### 4.Mapping Type : dict\n",
        "#### 5.Set Type : set,frozenset\n",
        "#### 6.Boolean Type : Boolean\n",
        "#### 7.Binary Type : bytes,bytearray,memoryview\n",
        "#### 8.None Type : NoneType\n"
      ],
      "metadata": {
        "id": "NugTwe6C30jG"
      }
    },
    {
      "cell_type": "code",
      "source": [
        "# In Python, the data type is set when you assign a value to a variable:\n",
        "#str\n",
        "x = \"Hello World\"\n",
        "print(x)"
      ],
      "metadata": {
        "colab": {
          "base_uri": "https://localhost:8080/"
        },
        "id": "k1FP4G5G3g8W",
        "outputId": "d3ff7d86-5a13-46cb-efbb-59097d27ef9c"
      },
      "execution_count": 5,
      "outputs": [
        {
          "output_type": "stream",
          "name": "stdout",
          "text": [
            "Hello World\n"
          ]
        }
      ]
    },
    {
      "cell_type": "code",
      "source": [
        "#int\n",
        "x = 20\n",
        "x"
      ],
      "metadata": {
        "colab": {
          "base_uri": "https://localhost:8080/"
        },
        "id": "0-28A1bO5ZxJ",
        "outputId": "eb092a27-a0fd-4c45-94c0-c443c1460874"
      },
      "execution_count": 6,
      "outputs": [
        {
          "output_type": "execute_result",
          "data": {
            "text/plain": [
              "20"
            ]
          },
          "metadata": {},
          "execution_count": 6
        }
      ]
    },
    {
      "cell_type": "code",
      "source": [
        "#float\n",
        "x = 20.5\n",
        "x"
      ],
      "metadata": {
        "colab": {
          "base_uri": "https://localhost:8080/"
        },
        "id": "M--oAGD-5Zzq",
        "outputId": "d79e34a2-bf1f-4c1d-8e31-e0832a80a802"
      },
      "execution_count": 7,
      "outputs": [
        {
          "output_type": "execute_result",
          "data": {
            "text/plain": [
              "20.5"
            ]
          },
          "metadata": {},
          "execution_count": 7
        }
      ]
    },
    {
      "cell_type": "code",
      "source": [
        "#complax\n",
        "x = 1j\n",
        "x"
      ],
      "metadata": {
        "colab": {
          "base_uri": "https://localhost:8080/"
        },
        "id": "xMuFHH5V5Z2C",
        "outputId": "0355e36f-91f9-4e02-d796-31271c9d9669"
      },
      "execution_count": 8,
      "outputs": [
        {
          "output_type": "execute_result",
          "data": {
            "text/plain": [
              "1j"
            ]
          },
          "metadata": {},
          "execution_count": 8
        }
      ]
    },
    {
      "cell_type": "code",
      "source": [
        "#list\n",
        "x = [\"apple\",\"banana\",\"cherry\"]\n",
        "x"
      ],
      "metadata": {
        "colab": {
          "base_uri": "https://localhost:8080/"
        },
        "id": "lTC--PxK5Z4a",
        "outputId": "0cb75f81-4236-4e69-912a-4c4a4a7a311a"
      },
      "execution_count": 9,
      "outputs": [
        {
          "output_type": "execute_result",
          "data": {
            "text/plain": [
              "['apple', 'banana', 'cherry']"
            ]
          },
          "metadata": {},
          "execution_count": 9
        }
      ]
    },
    {
      "cell_type": "code",
      "source": [
        "#tuple\n",
        "x = (\"apple\",\"banana\",\"cherry\")\n",
        "x"
      ],
      "metadata": {
        "colab": {
          "base_uri": "https://localhost:8080/"
        },
        "id": "mf3ZHV9r5Z6w",
        "outputId": "cab59d30-08f2-46dd-99f0-bcc112591239"
      },
      "execution_count": 10,
      "outputs": [
        {
          "output_type": "execute_result",
          "data": {
            "text/plain": [
              "('apple', 'banana', 'cherry')"
            ]
          },
          "metadata": {},
          "execution_count": 10
        }
      ]
    },
    {
      "cell_type": "code",
      "source": [
        "#range\n",
        "x = range(6)\n",
        "y = list(x)\n",
        "y"
      ],
      "metadata": {
        "colab": {
          "base_uri": "https://localhost:8080/"
        },
        "id": "SqG4xLV65Z9H",
        "outputId": "e021bf3e-ba4f-4074-cabb-df3e7c50709a"
      },
      "execution_count": 12,
      "outputs": [
        {
          "output_type": "execute_result",
          "data": {
            "text/plain": [
              "[0, 1, 2, 3, 4, 5]"
            ]
          },
          "metadata": {},
          "execution_count": 12
        }
      ]
    },
    {
      "cell_type": "code",
      "source": [
        "#dict\n",
        "x = {\"name\" : \"Akash\", \"age\" : 25}\n",
        "x"
      ],
      "metadata": {
        "colab": {
          "base_uri": "https://localhost:8080/"
        },
        "id": "hAy9oeAy5aAf",
        "outputId": "28cb33bf-ccab-4bd3-c20c-de240d0260ae"
      },
      "execution_count": 13,
      "outputs": [
        {
          "output_type": "execute_result",
          "data": {
            "text/plain": [
              "{'name': 'Akash', 'age': 25}"
            ]
          },
          "metadata": {},
          "execution_count": 13
        }
      ]
    },
    {
      "cell_type": "code",
      "source": [
        "#set\n",
        "x = {\"apple\", \"banana\", \"cherry\"}\n",
        "x"
      ],
      "metadata": {
        "colab": {
          "base_uri": "https://localhost:8080/"
        },
        "id": "zBh1x0J35acB",
        "outputId": "7ace1132-50d9-4ae4-dc36-6e01cd2289a5"
      },
      "execution_count": 14,
      "outputs": [
        {
          "output_type": "execute_result",
          "data": {
            "text/plain": [
              "{'apple', 'banana', 'cherry'}"
            ]
          },
          "metadata": {},
          "execution_count": 14
        }
      ]
    },
    {
      "cell_type": "code",
      "source": [
        "#frozenset\n",
        "x = frozenset({\"apple\", \"banana\", \"cherry\"})\n",
        "x"
      ],
      "metadata": {
        "colab": {
          "base_uri": "https://localhost:8080/"
        },
        "id": "GmHrvskq5aeM",
        "outputId": "ad3ecb57-a1bd-4b79-bcb1-e3f6303ebfa8"
      },
      "execution_count": 16,
      "outputs": [
        {
          "output_type": "execute_result",
          "data": {
            "text/plain": [
              "frozenset({'apple', 'banana', 'cherry'})"
            ]
          },
          "metadata": {},
          "execution_count": 16
        }
      ]
    },
    {
      "cell_type": "code",
      "source": [
        "#bool \n",
        "x = True\n",
        "x"
      ],
      "metadata": {
        "colab": {
          "base_uri": "https://localhost:8080/"
        },
        "id": "oESQNdXs5ahh",
        "outputId": "215960f8-80c1-4a12-d12e-e240fcfe8723"
      },
      "execution_count": 17,
      "outputs": [
        {
          "output_type": "execute_result",
          "data": {
            "text/plain": [
              "True"
            ]
          },
          "metadata": {},
          "execution_count": 17
        }
      ]
    },
    {
      "cell_type": "code",
      "source": [
        "#bytes\n",
        "x = b\"Hello\"\n",
        "x"
      ],
      "metadata": {
        "colab": {
          "base_uri": "https://localhost:8080/"
        },
        "id": "1EG-Hvi77gb3",
        "outputId": "1d0bd377-71cd-4470-d1fe-28e88254df76"
      },
      "execution_count": 18,
      "outputs": [
        {
          "output_type": "execute_result",
          "data": {
            "text/plain": [
              "b'Hello'"
            ]
          },
          "metadata": {},
          "execution_count": 18
        }
      ]
    },
    {
      "cell_type": "code",
      "source": [
        "#bytearray\n",
        "x = bytearray(5)\n",
        "x"
      ],
      "metadata": {
        "colab": {
          "base_uri": "https://localhost:8080/"
        },
        "id": "dd51Xjz27gr-",
        "outputId": "567580b2-9441-4100-9285-1072c8760f05"
      },
      "execution_count": 19,
      "outputs": [
        {
          "output_type": "execute_result",
          "data": {
            "text/plain": [
              "bytearray(b'\\x00\\x00\\x00\\x00\\x00')"
            ]
          },
          "metadata": {},
          "execution_count": 19
        }
      ]
    },
    {
      "cell_type": "code",
      "source": [
        "#memoryview\n",
        "x = memoryview(bytes(5))\n",
        "x"
      ],
      "metadata": {
        "colab": {
          "base_uri": "https://localhost:8080/"
        },
        "id": "6vDx2tKV7gzj",
        "outputId": "81e05820-11d5-415e-80bc-c9b9a721b02c"
      },
      "execution_count": 21,
      "outputs": [
        {
          "output_type": "execute_result",
          "data": {
            "text/plain": [
              "<memory at 0x7f55fd7a34c0>"
            ]
          },
          "metadata": {},
          "execution_count": 21
        }
      ]
    },
    {
      "cell_type": "code",
      "source": [
        "#nonetype\n",
        "x = None\n",
        "x"
      ],
      "metadata": {
        "id": "9DTUp1UU7g79"
      },
      "execution_count": 22,
      "outputs": []
    },
    {
      "cell_type": "markdown",
      "source": [],
      "metadata": {
        "id": "_-enLqjU31SO"
      }
    },
    {
      "cell_type": "code",
      "source": [],
      "metadata": {
        "id": "PszQHWYj5ZOK"
      },
      "execution_count": null,
      "outputs": []
    }
  ]
}